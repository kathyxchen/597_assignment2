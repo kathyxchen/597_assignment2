{
 "cells": [
  {
   "cell_type": "markdown",
   "metadata": {},
   "source": [
    "In this notebook, we replicate the corrected versions of select figures from Muchlinski et al. (2016). All but Figure 3 have code provided for the corrected figures, which we copied and ran in the cells below. We save Fig 3 to the end so we can include a detailed description of how we generated a \"corrected\" version of that figure. \n",
    "\n",
    "You can skip to the headers beginning with \"Figure 2\", \"Figure 1\", \"Table 1\", and \"Figure 3\" to verify each figure."
   ]
  },
  {
   "cell_type": "code",
   "execution_count": 1,
   "metadata": {},
   "outputs": [
    {
     "name": "stderr",
     "output_type": "stream",
     "text": [
      "randomForest 4.6-14\n",
      "\n",
      "Type rfNews() to see new features/changes/bug fixes.\n",
      "\n",
      "Loading required package: lattice\n",
      "\n",
      "Loading required package: ggplot2\n",
      "\n",
      "\n",
      "Attaching package: ‘ggplot2’\n",
      "\n",
      "\n",
      "The following object is masked from ‘package:randomForest’:\n",
      "\n",
      "    margin\n",
      "\n",
      "\n",
      "Type 'citation(\"pROC\")' for a citation.\n",
      "\n",
      "\n",
      "Attaching package: ‘pROC’\n",
      "\n",
      "\n",
      "The following objects are masked from ‘package:stats’:\n",
      "\n",
      "    cov, smooth, var\n",
      "\n",
      "\n",
      "Loading required package: foreach\n",
      "\n",
      "Loading required package: iterators\n",
      "\n",
      "Loading required package: parallel\n",
      "\n"
     ]
    }
   ],
   "source": [
    "library(randomForest)\n",
    "library(caret)\n",
    "library(ROCR)\n",
    "library(pROC)\n",
    "library(stepPlr)\n",
    "library(doMC)\n",
    "library(xtable)"
   ]
  },
  {
   "cell_type": "markdown",
   "metadata": {},
   "source": [
    "## Load data"
   ]
  },
  {
   "cell_type": "code",
   "execution_count": 2,
   "metadata": {},
   "outputs": [],
   "source": [
    "data <- read.csv(file=\"./data/SambanisImp.csv\")"
   ]
  },
  {
   "cell_type": "code",
   "execution_count": 3,
   "metadata": {},
   "outputs": [],
   "source": [
    "# Using only the 88 variables specified in Sambanis (2006) Appendix\n",
    "data.full <- data[,\n",
    "    c(\"warstds\", \"ager\", \"agexp\", \"anoc\", \"army85\", \"autch98\", \"auto4\",\n",
    "      \"autonomy\", \"avgnabo\", \"centpol3\", \"coldwar\", \"decade1\", \"decade2\",\n",
    "      \"decade3\", \"decade4\", \"dem\", \"dem4\", \"demch98\", \"dlang\", \"drel\",\n",
    "      \"durable\", \"ef\", \"ef2\", \"ehet\", \"elfo\", \"elfo2\", \"etdo4590\",\n",
    "      \"expgdp\", \"exrec\", \"fedpol3\", \"fuelexp\", \"gdpgrowth\", \"geo1\", \"geo2\",\n",
    "      \"geo34\", \"geo57\", \"geo69\", \"geo8\", \"illiteracy\", \"incumb\", \"infant\",\n",
    "      \"inst\", \"inst3\", \"life\", \"lmtnest\", \"ln_gdpen\", \"lpopns\", \"major\", \"manuexp\", \"milper\",\n",
    "      \"mirps0\", \"mirps1\", \"mirps2\", \"mirps3\", \"nat_war\", \"ncontig\",\n",
    "      \"nmgdp\", \"nmdp4_alt\", \"numlang\", \"nwstate\", \"oil\", \"p4mchg\",\n",
    "      \"parcomp\", \"parreg\", \"part\", \"partfree\", \"plural\", \"plurrel\",\n",
    "      \"pol4\", \"pol4m\", \"pol4sq\", \"polch98\", \"polcomp\", \"popdense\",\n",
    "      \"presi\", \"pri\", \"proxregc\", \"ptime\", \"reg\", \"regd4_alt\", \"relfrac\", \"seceduc\",\n",
    "      \"second\", \"semipol3\", \"sip2\", \"sxpnew\", \"sxpsq\", \"tnatwar\", \"trade\",\n",
    "      \"warhist\", \"xconst\")]"
   ]
  },
  {
   "cell_type": "code",
   "execution_count": 4,
   "metadata": {},
   "outputs": [],
   "source": [
    "# Convert DV into Factor with names \n",
    "data.full$warstds <- factor(\n",
    "    data.full$warstds,\n",
    "    levels=c(0,1),\n",
    "    labels=c(\"peace\", \"war\"))"
   ]
  },
  {
   "cell_type": "markdown",
   "metadata": {},
   "source": [
    "## Train models"
   ]
  },
  {
   "cell_type": "code",
   "execution_count": 5,
   "metadata": {},
   "outputs": [],
   "source": [
    "# distribute workload over multiple cores for faster computation\n",
    "registerDoMC(cores=7)\n",
    "set.seed(666)"
   ]
  },
  {
   "cell_type": "code",
   "execution_count": 6,
   "metadata": {},
   "outputs": [],
   "source": [
    "# cross-validation function for the Caret Library\n",
    "tc <- trainControl(method=\"cv\",\n",
    "    number=10,\n",
    "    summaryFunction=twoClassSummary,\n",
    "    classProb=T,\n",
    "    savePredictions=T)"
   ]
  },
  {
   "cell_type": "markdown",
   "metadata": {},
   "source": [
    "### Fearon and Laitin Model (2003)"
   ]
  },
  {
   "cell_type": "code",
   "execution_count": 7,
   "metadata": {},
   "outputs": [],
   "source": [
    "model.fl.1 <- train(\n",
    "    as.factor(warstds)~warhist+ln_gdpen+lpopns+lmtnest+ncontig+oil+nwstate\n",
    "                      +inst3+pol4+ef+relfrac, #FL 2003 model spec\n",
    "    metric=\"ROC\", method=\"glm\", family=\"binomial\",\n",
    "    trControl=tc, data=data.full)"
   ]
  },
  {
   "cell_type": "code",
   "execution_count": 8,
   "metadata": {},
   "outputs": [
    {
     "data": {
      "text/plain": [
       "\n",
       "Call:\n",
       "NULL\n",
       "\n",
       "Deviance Residuals: \n",
       "    Min       1Q   Median       3Q      Max  \n",
       "-1.0635  -0.1859  -0.1325  -0.0994   3.2962  \n",
       "\n",
       "Coefficients:\n",
       "            Estimate Std. Error z value Pr(>|z|)    \n",
       "(Intercept) -8.46582    1.11539  -7.590 3.20e-14 ***\n",
       "warhist      0.02247    0.25379   0.089  0.92946    \n",
       "ln_gdpen    -0.35196    0.11791  -2.985  0.00284 ** \n",
       "lpopns       0.18788    0.06815   2.757  0.00584 ** \n",
       "lmtnest      0.18706    0.08049   2.324  0.02013 *  \n",
       "ncontig      0.26477    0.28232   0.938  0.34831    \n",
       "oil          0.33689    0.30155   1.117  0.26391    \n",
       "nwstate      1.86032    0.32037   5.807 6.37e-09 ***\n",
       "inst3        1.36212    0.20709   6.577 4.79e-11 ***\n",
       "pol4        -0.02435    0.01781  -1.367  0.17170    \n",
       "ef           0.44421    0.42340   1.049  0.29411    \n",
       "relfrac      0.59413    0.50782   1.170  0.24202    \n",
       "---\n",
       "Signif. codes:  0 ‘***’ 0.001 ‘**’ 0.01 ‘*’ 0.05 ‘.’ 0.1 ‘ ’ 1\n",
       "\n",
       "(Dispersion parameter for binomial family taken to be 1)\n",
       "\n",
       "    Null deviance: 1185.9  on 7139  degrees of freedom\n",
       "Residual deviance: 1057.2  on 7128  degrees of freedom\n",
       "AIC: 1081.2\n",
       "\n",
       "Number of Fisher Scoring iterations: 7\n"
      ]
     },
     "metadata": {},
     "output_type": "display_data"
    }
   ],
   "source": [
    "summary(model.fl.1)"
   ]
  },
  {
   "cell_type": "markdown",
   "metadata": {},
   "source": [
    "### Fearon and Laitin Model (2003) penalized logistic regression"
   ]
  },
  {
   "cell_type": "code",
   "execution_count": 9,
   "metadata": {},
   "outputs": [],
   "source": [
    "model.fl.2 <- train(\n",
    "    as.factor(warstds)~warhist+ln_gdpen+lpopns+lmtnest+ncontig+oil+nwstate\n",
    "                      +inst3+pol4+ef+relfrac, #FL 2003 model spec\n",
    "    metric=\"ROC\", method=\"plr\",\n",
    "    trControl=tc, data=data.full)"
   ]
  },
  {
   "cell_type": "code",
   "execution_count": 10,
   "metadata": {},
   "outputs": [
    {
     "name": "stdout",
     "output_type": "stream",
     "text": [
      "\n",
      "Call:\n",
      "stepPlr::plr(x = x, y = y, weights = if (!is.null(wts)) wts else rep(1, \n",
      "    length(y)), lambda = param$lambda, cp = as.character(param$cp))\n",
      "\n",
      "Coefficients:\n",
      "          Estimate Std.Error z value Pr(>|z|)\n",
      "Intercept  8.42662   1.10833   7.603    0.000\n",
      "warhist   -0.01827   0.25031  -0.073    0.942\n",
      "ln_gdpen   0.35579   0.11704   3.040    0.002\n",
      "lpopns    -0.18719   0.06783  -2.760    0.006\n",
      "lmtnest   -0.18629   0.08026  -2.321    0.020\n",
      "ncontig   -0.26372   0.27765  -0.950    0.342\n",
      "oil       -0.33176   0.29554  -1.123    0.261\n",
      "nwstate   -1.82097   0.31626  -5.758    0.000\n",
      "inst3     -1.34669   0.20509  -6.566    0.000\n",
      "pol4       0.02400   0.01774   1.353    0.176\n",
      "ef        -0.43870   0.40566  -1.081    0.280\n",
      "relfrac   -0.57091   0.48055  -1.188    0.235\n",
      "\n",
      "    Null deviance: 1185.92 on 7139 degrees of freedom\n",
      "Residual deviance: 1057.21 on 7128.16 degrees of freedom\n",
      "            Score: deviance + 8.9 * df = 1162.24 \n"
     ]
    }
   ],
   "source": [
    "summary(model.fl.2)"
   ]
  },
  {
   "cell_type": "markdown",
   "metadata": {},
   "source": [
    "### Collier and Hoeffler Model (2004) \n"
   ]
  },
  {
   "cell_type": "code",
   "execution_count": 11,
   "metadata": {},
   "outputs": [
    {
     "name": "stderr",
     "output_type": "stream",
     "text": [
      "Warning message:\n",
      "“glm.fit: fitted probabilities numerically 0 or 1 occurred”\n"
     ]
    }
   ],
   "source": [
    "model.ch.1 <- train(\n",
    "    as.factor(warstds)~sxpnew+sxpsq+ln_gdpen+gdpgrowth+warhist+lmtnest+ef+popdense\n",
    "                      +lpopns+coldwar+seceduc+ptime,\n",
    "    metric=\"ROC\", method=\"glm\", family=\"binomial\",\n",
    "    trControl=tc, data=data.full)"
   ]
  },
  {
   "cell_type": "code",
   "execution_count": 12,
   "metadata": {},
   "outputs": [
    {
     "data": {
      "text/plain": [
       "\n",
       "Call:\n",
       "NULL\n",
       "\n",
       "Deviance Residuals: \n",
       "    Min       1Q   Median       3Q      Max  \n",
       "-1.1130  -0.1837  -0.1161  -0.0777   3.5875  \n",
       "\n",
       "Coefficients:\n",
       "              Estimate Std. Error z value Pr(>|z|)    \n",
       "(Intercept) -6.945e+00  1.251e+00  -5.550 2.86e-08 ***\n",
       "sxpnew       1.768e+01  4.288e+00   4.123 3.74e-05 ***\n",
       "sxpsq       -7.685e+01  1.125e+01  -6.831 8.42e-12 ***\n",
       "ln_gdpen    -4.402e-01  1.418e-01  -3.104  0.00191 ** \n",
       "gdpgrowth   -6.783e+00  1.228e+00  -5.525 3.29e-08 ***\n",
       "warhist     -5.266e-01  2.612e-01  -2.016  0.04378 *  \n",
       "lmtnest      2.332e-01  8.192e-02   2.846  0.00443 ** \n",
       "ef          -1.118e-02  4.446e-01  -0.025  0.97993    \n",
       "popdense    -1.463e-04  9.093e-04  -0.161  0.87217    \n",
       "lpopns       2.265e-01  6.922e-02   3.272  0.00107 ** \n",
       "coldwar     -1.081e-01  2.678e-01  -0.404  0.68642    \n",
       "seceduc     -5.562e-03  5.650e-03  -0.984  0.32490    \n",
       "ptime       -2.279e-03  7.607e-04  -2.996  0.00273 ** \n",
       "---\n",
       "Signif. codes:  0 ‘***’ 0.001 ‘**’ 0.01 ‘*’ 0.05 ‘.’ 0.1 ‘ ’ 1\n",
       "\n",
       "(Dispersion parameter for binomial family taken to be 1)\n",
       "\n",
       "    Null deviance: 1185.9  on 7139  degrees of freedom\n",
       "Residual deviance: 1006.2  on 7127  degrees of freedom\n",
       "AIC: 1032.2\n",
       "\n",
       "Number of Fisher Scoring iterations: 9\n"
      ]
     },
     "metadata": {},
     "output_type": "display_data"
    }
   ],
   "source": [
    "summary(model.ch.1)"
   ]
  },
  {
   "cell_type": "markdown",
   "metadata": {},
   "source": [
    "### Collier and Hoeffler (2004) penalized logistic regression"
   ]
  },
  {
   "cell_type": "code",
   "execution_count": 13,
   "metadata": {},
   "outputs": [
    {
     "name": "stdout",
     "output_type": "stream",
     "text": [
      "\n",
      "Convergence warning in plr: 2 \n"
     ]
    }
   ],
   "source": [
    "model.ch.2 <- train(\n",
    "    as.factor(warstds)~sxpnew+sxpsq+ln_gdpen+gdpgrowth+warhist+lmtnest+ef+popdense\n",
    "                      +lpopns+coldwar+seceduc+ptime,\n",
    "    metric=\"ROC\", method=\"plr\",\n",
    "    trControl=tc, data=data.full)"
   ]
  },
  {
   "cell_type": "code",
   "execution_count": 14,
   "metadata": {},
   "outputs": [
    {
     "name": "stdout",
     "output_type": "stream",
     "text": [
      "\n",
      "Call:\n",
      "stepPlr::plr(x = x, y = y, weights = if (!is.null(wts)) wts else rep(1, \n",
      "    length(y)), lambda = param$lambda, cp = as.character(param$cp))\n",
      "\n",
      "Coefficients:\n",
      "          Estimate Std.Error z value Pr(>|z|)\n",
      "Intercept  5.69042   1.19736   4.752    0.000\n",
      "sxpnew     6.67340   4.99964   1.335    0.182\n",
      "sxpsq      4.92896  11.66979   0.422    0.673\n",
      "ln_gdpen   0.39857   0.12910   3.087    0.002\n",
      "gdpgrowth  6.77561   1.21447   5.579    0.000\n",
      "warhist    0.18392   0.26007   0.707    0.480\n",
      "lmtnest   -0.17193   0.07845  -2.192    0.028\n",
      "ef        -0.31249   0.43698  -0.715    0.475\n",
      "popdense   0.00108   0.00116   0.931    0.352\n",
      "lpopns    -0.18365   0.06734  -2.727    0.006\n",
      "coldwar   -0.03555   0.26632  -0.133    0.894\n",
      "seceduc    0.00822   0.00557   1.476    0.140\n",
      "ptime      0.00118   0.00073   1.616    0.106\n",
      "\n",
      "    Null deviance: 1185.92 on 7139 degrees of freedom\n",
      "Residual deviance: 1048.64 on 7127 degrees of freedom\n",
      "            Score: deviance + 8.9 * df = 1163.99 \n"
     ]
    }
   ],
   "source": [
    "summary(model.ch.2)"
   ]
  },
  {
   "cell_type": "markdown",
   "metadata": {},
   "source": [
    "### Hegre and Sambanis (2006) Model "
   ]
  },
  {
   "cell_type": "code",
   "execution_count": 15,
   "metadata": {},
   "outputs": [],
   "source": [
    "model.hs.1 <- train(\n",
    "    warstds~lpopns+ln_gdpen+inst3+parreg+geo34+proxregc+gdpgrowth+anoc\n",
    "           +partfree+nat_war+lmtnest+decade1+pol4sq+nwstate+regd4_alt+etdo4590+milper\n",
    "           +geo1+tnatwar+presi,\n",
    "    metric=\"ROC\", method=\"glm\", family=\"binomial\",\n",
    "    trControl=tc, data=data.full)"
   ]
  },
  {
   "cell_type": "code",
   "execution_count": 16,
   "metadata": {},
   "outputs": [
    {
     "data": {
      "text/plain": [
       "\n",
       "Call:\n",
       "NULL\n",
       "\n",
       "Deviance Residuals: \n",
       "    Min       1Q   Median       3Q      Max  \n",
       "-1.3271  -0.1876  -0.1212  -0.0719   3.7643  \n",
       "\n",
       "Coefficients:\n",
       "              Estimate Std. Error z value Pr(>|z|)    \n",
       "(Intercept) -7.882e+00  1.336e+00  -5.901 3.62e-09 ***\n",
       "lpopns       2.314e-01  7.381e-02   3.135  0.00172 ** \n",
       "ln_gdpen    -2.978e-01  1.318e-01  -2.259  0.02386 *  \n",
       "inst3        1.410e+00  2.476e-01   5.694 1.24e-08 ***\n",
       "parreg      -2.933e-01  1.364e-01  -2.151  0.03151 *  \n",
       "geo34       -1.062e-01  3.163e-01  -0.336  0.73709    \n",
       "proxregc    -9.256e-01  3.118e-01  -2.968  0.00300 ** \n",
       "gdpgrowth   -6.224e+00  1.209e+00  -5.148 2.63e-07 ***\n",
       "anoc         4.359e-01  3.037e-01   1.435  0.15119    \n",
       "partfree     9.320e-02  2.734e-01   0.341  0.73315    \n",
       "nat_war      1.000e+00  3.119e-01   3.206  0.00134 ** \n",
       "lmtnest      1.652e-01  7.996e-02   2.066  0.03883 *  \n",
       "decade1      1.870e-01  2.563e-01   0.729  0.46574    \n",
       "pol4sq       2.510e-03  5.606e-03   0.448  0.65428    \n",
       "nwstate      1.872e+00  3.526e-01   5.311 1.09e-07 ***\n",
       "regd4_alt   -5.943e-02  2.883e-02  -2.061  0.03928 *  \n",
       "etdo4590     3.242e-02  2.283e-01   0.142  0.88704    \n",
       "milper      -6.747e-05  2.816e-04  -0.240  0.81066    \n",
       "geo1        -1.077e+00  1.177e+00  -0.915  0.36012    \n",
       "tnatwar     -3.673e-01  1.754e-01  -2.094  0.03626 *  \n",
       "presi       -1.361e+00  6.164e-01  -2.207  0.02729 *  \n",
       "---\n",
       "Signif. codes:  0 ‘***’ 0.001 ‘**’ 0.01 ‘*’ 0.05 ‘.’ 0.1 ‘ ’ 1\n",
       "\n",
       "(Dispersion parameter for binomial family taken to be 1)\n",
       "\n",
       "    Null deviance: 1185.92  on 7139  degrees of freedom\n",
       "Residual deviance:  993.74  on 7119  degrees of freedom\n",
       "AIC: 1035.7\n",
       "\n",
       "Number of Fisher Scoring iterations: 9\n"
      ]
     },
     "metadata": {},
     "output_type": "display_data"
    }
   ],
   "source": [
    "summary(model.hs.1)"
   ]
  },
  {
   "cell_type": "markdown",
   "metadata": {},
   "source": [
    "### Hegre and Sambanis (2006) penalized logistic regression"
   ]
  },
  {
   "cell_type": "code",
   "execution_count": 17,
   "metadata": {},
   "outputs": [
    {
     "name": "stdout",
     "output_type": "stream",
     "text": [
      "\n",
      "Convergence warning in plr: 2 \n"
     ]
    }
   ],
   "source": [
    "model.hs.2 <- train(\n",
    "    warstds~lpopns+ln_gdpen+inst3+parreg+geo34+proxregc+gdpgrowth+anoc\n",
    "           +partfree+nat_war+lmtnest+decade1+pol4sq+nwstate+regd4_alt+etdo4590+milper\n",
    "           +geo1+tnatwar+presi,\n",
    "    metric=\"ROC\", method=\"plr\",\n",
    "    trControl=tc, data=data.full)"
   ]
  },
  {
   "cell_type": "code",
   "execution_count": 18,
   "metadata": {},
   "outputs": [
    {
     "name": "stdout",
     "output_type": "stream",
     "text": [
      "\n",
      "Call:\n",
      "stepPlr::plr(x = x, y = y, weights = if (!is.null(wts)) wts else rep(1, \n",
      "    length(y)), lambda = param$lambda, cp = as.character(param$cp))\n",
      "\n",
      "Coefficients:\n",
      "          Estimate Std.Error z value Pr(>|z|)\n",
      "Intercept  6.68751   1.31047   5.103    0.000\n",
      "lpopns    -0.17152   0.07319  -2.343    0.019\n",
      "ln_gdpen   0.30106   0.13110   2.296    0.022\n",
      "inst3     -1.41477   0.24655  -5.738    0.000\n",
      "parreg     0.33586   0.13389   2.508    0.012\n",
      "geo34      0.11543   0.31329   0.368    0.713\n",
      "proxregc   0.92051   0.30956   2.974    0.003\n",
      "gdpgrowth  5.30115   1.25502   4.224    0.000\n",
      "anoc      -0.37100   0.30178  -1.229    0.219\n",
      "partfree  -0.06924   0.27214  -0.254    0.799\n",
      "nat_war   -1.00776   0.31103  -3.240    0.001\n",
      "lmtnest   -0.16578   0.07927  -2.091    0.037\n",
      "decade1   -0.16346   0.25583  -0.639    0.523\n",
      "pol4sq    -0.00173   0.00558  -0.310    0.757\n",
      "nwstate   -1.85961   0.34976  -5.317    0.000\n",
      "regd4_alt  0.05579   0.02847   1.960    0.050\n",
      "etdo4590  -0.00063   0.22750  -0.003    0.998\n",
      "milper     0.00000   0.00027   0.000    1.000\n",
      "geo1       1.06754   1.17000   0.912    0.362\n",
      "tnatwar    0.34857   0.17513   1.990    0.047\n",
      "presi      1.42094   0.61936   2.294    0.022\n",
      "\n",
      "    Null deviance: 1185.92 on 7139 degrees of freedom\n",
      "Residual deviance: 995.01 on 7119 degrees of freedom\n",
      "            Score: deviance + 8.9 * df = 1181.35 \n"
     ]
    }
   ],
   "source": [
    "summary(model.hs.2)"
   ]
  },
  {
   "cell_type": "markdown",
   "metadata": {},
   "source": [
    "### Random Forest"
   ]
  },
  {
   "cell_type": "code",
   "execution_count": 32,
   "metadata": {},
   "outputs": [],
   "source": [
    "model.rf <- train(\n",
    "    as.factor(warstds)~.,\n",
    "    metric=\"ROC\", method=\"rf\",\n",
    "    sampsize=c(30,90),\n",
    "    importance=T,\n",
    "    proximity=F, \n",
    "    ntree=1000,\n",
    "    trControl=tc, data=data.full)"
   ]
  },
  {
   "cell_type": "code",
   "execution_count": 33,
   "metadata": {},
   "outputs": [
    {
     "data": {
      "text/plain": [
       "                Length Class      Mode     \n",
       "call                8  -none-     call     \n",
       "type                1  -none-     character\n",
       "predicted        7140  factor     numeric  \n",
       "err.rate         3000  -none-     numeric  \n",
       "confusion           6  -none-     numeric  \n",
       "votes           14280  matrix     numeric  \n",
       "oob.times        7140  -none-     numeric  \n",
       "classes             2  -none-     character\n",
       "importance        360  -none-     numeric  \n",
       "importanceSD      270  -none-     numeric  \n",
       "localImportance     0  -none-     NULL     \n",
       "proximity           0  -none-     NULL     \n",
       "ntree               1  -none-     numeric  \n",
       "mtry                1  -none-     numeric  \n",
       "forest             14  -none-     list     \n",
       "y                7140  factor     numeric  \n",
       "test                0  -none-     NULL     \n",
       "inbag               0  -none-     NULL     \n",
       "xNames             90  -none-     character\n",
       "problemType         1  -none-     character\n",
       "tuneValue           1  data.frame list     \n",
       "obsLevels           2  -none-     character\n",
       "param               4  -none-     list     "
      ]
     },
     "metadata": {},
     "output_type": "display_data"
    }
   ],
   "source": [
    "summary(model.rf)"
   ]
  },
  {
   "cell_type": "markdown",
   "metadata": {},
   "source": [
    "### EXTENSION: computing F1 score for the models trained according to Muchlinski et al.'s specifications \n",
    "Note we did not do this for all models, just a subset of them to make a comparison with Fig 3 in the end"
   ]
  },
  {
   "cell_type": "code",
   "execution_count": 54,
   "metadata": {},
   "outputs": [],
   "source": [
    "confMat <- function(threshold=0.5, pred, obs){\n",
    "    if(class(obs)==\"factor\") obs <- as.numeric(obs)-1\n",
    "\n",
    "    uMat <- matrix(threshold,length(obs),length(threshold),byrow=T)\n",
    "    preds <- c(pred)-uMat > 0\n",
    "    TP <- t(obs)%*%preds\n",
    "    FP <- t(1-obs)%*%preds\n",
    "    TN <- t(1-obs)%*%(1-preds)\n",
    "    FN <- t(obs)%*%(1-preds)\n",
    "\n",
    "    cmMat <- cbind(c(TP),c(FP),c(TN),c(FN))\n",
    "    colnames(cmMat) <- c(\"tp\",\"fp\",\"tn\",\"fn\")\n",
    "    cmMat <- data.frame(cmMat)\n",
    "    return(cmMat)\n",
    "}\n",
    "\n",
    "compute_F1 <- function(model, test) {\n",
    "    predictions <- predict(model, newdata=test, type=\"prob\")\n",
    "    confusion <- confMat(pred=predictions[,2], obs=test[,1])\n",
    "    F1 <- 2*confusion$tp / (2*confusion$tp + confusion$fn + confusion$fp)\n",
    "    return(F1)\n",
    "}"
   ]
  },
  {
   "cell_type": "markdown",
   "metadata": {},
   "source": [
    "F1 score for random forest model on all training data (same way the authors create the ROC curves)"
   ]
  },
  {
   "cell_type": "code",
   "execution_count": 58,
   "metadata": {},
   "outputs": [
    {
     "data": {
      "text/html": [
       "0.116700201207243"
      ],
      "text/latex": [
       "0.116700201207243"
      ],
      "text/markdown": [
       "0.116700201207243"
      ],
      "text/plain": [
       "[1] 0.1167002"
      ]
     },
     "metadata": {},
     "output_type": "display_data"
    }
   ],
   "source": [
    "compute_F1(model.rf, data.full)"
   ]
  },
  {
   "cell_type": "markdown",
   "metadata": {},
   "source": [
    "F1 score for logistic regression models"
   ]
  },
  {
   "cell_type": "code",
   "execution_count": 57,
   "metadata": {},
   "outputs": [
    {
     "data": {
      "text/html": [
       "0.0170940170940171"
      ],
      "text/latex": [
       "0.0170940170940171"
      ],
      "text/markdown": [
       "0.0170940170940171"
      ],
      "text/plain": [
       "[1] 0.01709402"
      ]
     },
     "metadata": {},
     "output_type": "display_data"
    }
   ],
   "source": [
    "compute_F1(model.fl.1, data.full)"
   ]
  },
  {
   "cell_type": "code",
   "execution_count": 59,
   "metadata": {},
   "outputs": [
    {
     "data": {
      "text/html": [
       "0"
      ],
      "text/latex": [
       "0"
      ],
      "text/markdown": [
       "0"
      ],
      "text/plain": [
       "[1] 0"
      ]
     },
     "metadata": {},
     "output_type": "display_data"
    }
   ],
   "source": [
    "compute_F1(model.ch.1, data.full)"
   ]
  },
  {
   "cell_type": "code",
   "execution_count": 60,
   "metadata": {},
   "outputs": [
    {
     "data": {
      "text/html": [
       "0.0168067226890756"
      ],
      "text/latex": [
       "0.0168067226890756"
      ],
      "text/markdown": [
       "0.0168067226890756"
      ],
      "text/plain": [
       "[1] 0.01680672"
      ]
     },
     "metadata": {},
     "output_type": "display_data"
    }
   ],
   "source": [
    "compute_F1(model.hs.1, data.full)"
   ]
  },
  {
   "cell_type": "markdown",
   "metadata": {},
   "source": [
    "## Figure 2 (ROC Curves)"
   ]
  },
  {
   "cell_type": "code",
   "execution_count": 212,
   "metadata": {},
   "outputs": [],
   "source": [
    "pred.FL.war <- model.fl.1$finalModel$fitted.values\n",
    "pred.CH.war <- model.ch.1$finalModel$fitted.values\n",
    "pred.HR.war <- model.hs.1$finalModel$fitted.values"
   ]
  },
  {
   "cell_type": "code",
   "execution_count": 213,
   "metadata": {},
   "outputs": [],
   "source": [
    "RF.1.pred <- predict(model.rf$finalModel, type=\"prob\")\n",
    "RF.1.pred <- as.data.frame(RF.1.pred)"
   ]
  },
  {
   "cell_type": "code",
   "execution_count": 214,
   "metadata": {},
   "outputs": [],
   "source": [
    "pred.FL <- prediction(pred.FL.war, data.full$warstds)\n",
    "perf.FL <- performance(pred.FL,\"tpr\",\"fpr\")\n",
    "pred.CH <- prediction(pred.CH.war, data.full$warstds)\n",
    "perf.CH <- performance(pred.CH,\"tpr\",\"fpr\")\n",
    "pred.HS <- prediction(pred.HR.war, data.full$warstds)\n",
    "perf.HS <- performance(pred.HS, \"tpr\", \"fpr\")\n",
    "pred.RF.1 <- prediction(RF.1.pred$war, data.full$warstds)\n",
    "perf.RF.1 <- performance(pred.RF.1, \"tpr\", \"fpr\")"
   ]
  },
  {
   "cell_type": "code",
   "execution_count": 215,
   "metadata": {},
   "outputs": [
    {
     "data": {
      "image/png": "[encoded data removed]",
      "text/plain": [
       "Plot with title “Logits and Random Forests (Corrected)”"
      ]
     },
     "metadata": {
      "image/png": {
       "height": 420,
       "width": 420
      }
     },
     "output_type": "display_data"
    }
   ],
   "source": [
    "plot(perf.FL, main=\"Logits and Random Forests (Corrected)\")\n",
    "plot(perf.CH, add=T, lty=2)\n",
    "plot(perf.HS, add=T, lty=3)\n",
    "plot(perf.RF.1, add=T, lty=4)\n",
    "legend(0.32, 0.25, \n",
    "       c(\"Fearon and Laitin (2003) 0.77\", \"Collier and Hoeffler (2004) 0.82\",\n",
    "         \"Hegre and Sambanis (2006) 0.80\", \"Random Forest 0.91\" ),\n",
    "       lty=c(1,2,3,4), bty=\"n\", cex = .75)"
   ]
  },
  {
   "cell_type": "code",
   "execution_count": 216,
   "metadata": {},
   "outputs": [],
   "source": [
    "FL.2.pred <- 1-model.fl.2$finalModel$fitted.values\n",
    "CH.2.pred <- 1-model.ch.2$finalModel$fitted.values\n",
    "HS.2.pred <- 1-model.hs.2$finalModel$fitted.values"
   ]
  },
  {
   "cell_type": "code",
   "execution_count": 217,
   "metadata": {},
   "outputs": [],
   "source": [
    "pred.FL.2 <- prediction(FL.2.pred, data.full$warstds)\n",
    "perf.FL.2 <- performance(pred.FL.2,\"tpr\",\"fpr\")\n",
    "pred.CH.2 <- prediction(CH.2.pred, data.full$warstds)\n",
    "perf.CH.2 <- performance(pred.CH.2,\"tpr\",\"fpr\")\n",
    "pred.HS.2 <- prediction(HS.2.pred, data.full$warstds)\n",
    "perf.HS.2 <- performance(pred.HS.2,\"tpr\",\"fpr\")"
   ]
  },
  {
   "cell_type": "code",
   "execution_count": 218,
   "metadata": {},
   "outputs": [
    {
     "data": {
      "image/png": "[encoded data removed]",
      "text/plain": [
       "Plot with title “Penalized Logits and Random Forests (Corrected)”"
      ]
     },
     "metadata": {
      "image/png": {
       "height": 420,
       "width": 420
      }
     },
     "output_type": "display_data"
    }
   ],
   "source": [
    "plot(perf.FL.2, main=\"Penalized Logits and Random Forests (Corrected)\")\n",
    "plot(perf.CH.2, add=T, lty=2)\n",
    "plot(perf.HS.2, add=T, lty=3)\n",
    "plot(perf.RF.1, add=T, lty=4)\n",
    "legend(0.32, 0.25, \n",
    "       c(\"Fearon and Laitin (2003) 0.77\",\n",
    "         \"Collier and Hoeffler (2004) 0.77\",\n",
    "         \"Hegre and Sambanis (2006) 0.80\",\n",
    "         \"Random Forest 0.91\" ), \n",
    "       lty=c(1,2,3,4), bty=\"n\", cex = .75)"
   ]
  },
  {
   "cell_type": "code",
   "execution_count": 219,
   "metadata": {},
   "outputs": [
    {
     "data": {
      "image/png": "[encoded data removed]",
      "text/plain": [
       "Plot with title “Penalized Logits and Random Forests (Corrected)”"
      ]
     },
     "metadata": {
      "image/png": {
       "height": 420,
       "width": 420
      }
     },
     "output_type": "display_data"
    }
   ],
   "source": [
    "### Combine both ROC plots\n",
    "par(mfrow=c(1,2))\n",
    "plot(perf.FL, main=\"Logits and Random Forests (Corrected)\")\n",
    "plot(perf.CH, add=T, lty=2)\n",
    "plot(perf.HS, add=T, lty=3)\n",
    "plot(perf.RF.1, add=T, lty=4)\n",
    "legend(0.32, 0.25, \n",
    "       c(\"Fearon and Laitin (2003) 0.77\", \"Collier and Hoeffler (2004) 0.82\",\n",
    "         \"Hegre and Sambanis (2006) 0.80\", \"Random Forest 0.91\" ),\n",
    "       lty=c(1,2,3,4), bty=\"n\", cex = .75)\n",
    "plot(perf.FL.2, main=\"Penalized Logits and Random Forests (Corrected)\")\n",
    "plot(perf.CH.2, add=T, lty=2)\n",
    "plot(perf.HS.2, add=T, lty=3)\n",
    "plot(perf.RF.1, add=T, lty=4)\n",
    "legend(0.32, 0.25,\n",
    "       c(\"Fearon and Laitin (2003) 0.77\", \"Collier and Hoeffler (2004) 0.77\",\n",
    "         \"Hegre and Sambanis (2006) 0.80\", \"Random Forest 0.91\" ),\n",
    "       lty=c(1,2,3,4), bty=\"n\", cex = .75)"
   ]
  },
  {
   "cell_type": "markdown",
   "metadata": {},
   "source": [
    "## Figure 1 (separation plots)"
   ]
  },
  {
   "cell_type": "code",
   "execution_count": 29,
   "metadata": {},
   "outputs": [
    {
     "name": "stderr",
     "output_type": "stream",
     "text": [
      "Loading required package: RColorBrewer\n",
      "\n",
      "Loading required package: Hmisc\n",
      "\n",
      "Loading required package: survival\n",
      "\n",
      "\n",
      "Attaching package: ‘survival’\n",
      "\n",
      "\n",
      "The following object is masked from ‘package:caret’:\n",
      "\n",
      "    cluster\n",
      "\n",
      "\n",
      "Loading required package: Formula\n",
      "\n",
      "\n",
      "Attaching package: ‘Hmisc’\n",
      "\n",
      "\n",
      "The following objects are masked from ‘package:xtable’:\n",
      "\n",
      "    label, label<-\n",
      "\n",
      "\n",
      "The following objects are masked from ‘package:base’:\n",
      "\n",
      "    format.pval, units\n",
      "\n",
      "\n",
      "Loading required package: MASS\n",
      "\n",
      "Loading required package: foreign\n",
      "\n"
     ]
    }
   ],
   "source": [
    "library(separationplot)"
   ]
  },
  {
   "cell_type": "markdown",
   "metadata": {},
   "source": [
    "Transform DV back to 0,1 values for separation plots"
   ]
  },
  {
   "cell_type": "code",
   "execution_count": 30,
   "metadata": {},
   "outputs": [],
   "source": [
    "data.full$warstds <- factor(\n",
    "    data.full$warstds,\n",
    "    levels=c(\"peace\",\"war\"),\n",
    "    labels=c(0, 1))"
   ]
  },
  {
   "cell_type": "markdown",
   "metadata": {},
   "source": [
    "Transform actual observations into vector for separation plots"
   ]
  },
  {
   "cell_type": "code",
   "execution_count": 31,
   "metadata": {},
   "outputs": [],
   "source": [
    "Warstds <- as.vector(data.full$warstds)"
   ]
  },
  {
   "cell_type": "code",
   "execution_count": 32,
   "metadata": {},
   "outputs": [
    {
     "data": {
      "image/png": "[encoded data removed]",
      "text/plain": [
       "Plot with title “Random Forests”"
      ]
     },
     "metadata": {
      "image/png": {
       "height": 420,
       "width": 420
      }
     },
     "output_type": "display_data"
    }
   ],
   "source": [
    "separationplot(\n",
    "    RF.1.pred$war,\n",
    "    Warstds,\n",
    "    type=\"line\",\n",
    "    line=T,\n",
    "    lwd2=1,\n",
    "    show.expected=T,\n",
    "    heading=\"Random Forests\", height=2.5, col0=\"white\", col1=\"black\", newplot=F)"
   ]
  },
  {
   "cell_type": "code",
   "execution_count": 33,
   "metadata": {},
   "outputs": [
    {
     "data": {
      "image/png": "[encoded data removed]",
      "text/plain": [
       "Plot with title “Fearon and Laitin (2003)”"
      ]
     },
     "metadata": {
      "image/png": {
       "height": 420,
       "width": 420
      }
     },
     "output_type": "display_data"
    }
   ],
   "source": [
    "separationplot(\n",
    "    pred.FL.war, Warstds, type=\"line\", line=T, lwd2=1, show.expected=T,\n",
    "    heading=\"Fearon and Laitin (2003)\", height=2.5, col0=\"white\", col1=\"black\", newplot=F)"
   ]
  },
  {
   "cell_type": "code",
   "execution_count": 34,
   "metadata": {},
   "outputs": [
    {
     "data": {
      "image/png": "[encoded data removed]",
      "text/plain": [
       "Plot with title “Collier and Hoeffler (2004)”"
      ]
     },
     "metadata": {
      "image/png": {
       "height": 420,
       "width": 420
      }
     },
     "output_type": "display_data"
    }
   ],
   "source": [
    "separationplot(\n",
    "    pred.CH.war, Warstds, type=\"line\", line=T, lwd2=1, show.expected=T,\n",
    "    heading=\"Collier and Hoeffler (2004)\", height=2.5, col0=\"white\", col1=\"black\", newplot=F)"
   ]
  },
  {
   "cell_type": "code",
   "execution_count": 35,
   "metadata": {},
   "outputs": [
    {
     "data": {
      "image/png": "[encoded data removed]",
      "text/plain": [
       "Plot with title “Hegre and Sambanis (2006)”"
      ]
     },
     "metadata": {
      "image/png": {
       "height": 420,
       "width": 420
      }
     },
     "output_type": "display_data"
    }
   ],
   "source": [
    "separationplot(\n",
    "    pred.HR.war, Warstds, type=\"line\", line=T, lwd2=1, show.expected=T,\n",
    "    heading=\"Hegre and Sambanis (2006)\", height=2.5, col0=\"white\", col1=\"black\", newplot=F)"
   ]
  },
  {
   "cell_type": "markdown",
   "metadata": {},
   "source": [
    "## Table 1"
   ]
  },
  {
   "cell_type": "code",
   "execution_count": 36,
   "metadata": {},
   "outputs": [
    {
     "name": "stdout",
     "output_type": "stream",
     "text": [
      "ntree      OOB      1      2\n",
      " 1000:   0.02%  0.00%  1.48%\n",
      "ntree      OOB      1      2\n",
      " 1000:   0.02%  0.00%  1.48%\n",
      "ntree      OOB      1      2\n",
      " 1000:   0.04%  0.00%  2.22%\n",
      "ntree      OOB      1      2\n",
      " 1000:   0.06%  0.00%  3.70%\n",
      "ntree      OOB      1      2\n",
      " 1000:   0.01%  0.00%  0.74%\n"
     ]
    }
   ],
   "source": [
    "set.seed(425)\n",
    "data_imp <- read.csv(file=\"./data/data_full.csv\")\n",
    "rf.imp <- rfImpute(data_imp, as.factor(data_imp$warstds), iter=5, ntree=1000)"
   ]
  },
  {
   "cell_type": "code",
   "execution_count": 37,
   "metadata": {},
   "outputs": [],
   "source": [
    "mena <- subset(rf.imp, rf.imp$year > 2000)"
   ]
  },
  {
   "cell_type": "code",
   "execution_count": 38,
   "metadata": {},
   "outputs": [],
   "source": [
    "fl.pred <- predict(model.fl.1, newdata=mena, type=\"prob\")\n",
    "fl.pred <- as.data.frame(fl.pred)\n",
    "pred.FL.1 <- prediction(fl.pred$war, mena$`as.factor(data_imp$warstds)`)\n",
    "perf.FL.1 <- performance(pred.FL.1, \"auc\")\n",
    "\n",
    "ch.pred <- predict(model.ch.1, newdata=mena, type=\"prob\")\n",
    "ch.pred <- as.data.frame(ch.pred)\n",
    "pred.CH.1 <- prediction(ch.pred$war, mena$`as.factor(data_imp$warstds)`)\n",
    "perf.CH.1 <- performance(pred.CH.1, \"auc\")\n",
    "\n",
    "hs.pred <- predict(model.hs.1, newdata=mena, type=\"prob\")\n",
    "hs.pred <- as.data.frame(hs.pred)\n",
    "pred.HS.1 <- prediction(hs.pred$war, mena$`as.factor(data_imp$warstds)`)\n",
    "perf.HS.1 <- performance(pred.HS.1, \"auc\")\n",
    "\n",
    "rf.pred <- predict(model.rf, newdata=mena, type=\"prob\")\n",
    "rf.pred <- as.data.frame(rf.pred)\n",
    "pred.RF.1 <- prediction(rf.pred$war, mena$`as.factor(data_imp$warstds)`)\n",
    "perf.RF.1 <- performance(pred.RF.1, \"tpr\", \"fpr\")\n",
    "perf.RF.1 <- performance(pred.RF.1, \"auc\")"
   ]
  },
  {
   "cell_type": "code",
   "execution_count": 39,
   "metadata": {},
   "outputs": [],
   "source": [
    "predictions <- cbind(\n",
    "    mena$cowcode, mena$year, mena$warstds,\n",
    "    fl.pred[,2], ch.pred[,2],\n",
    "    hs.pred[,2], rf.pred[,2])"
   ]
  },
  {
   "cell_type": "code",
   "execution_count": 40,
   "metadata": {},
   "outputs": [
    {
     "data": {
      "text/html": [
       "<table>\n",
       "<caption>A xtable: 19 × 7</caption>\n",
       "<thead>\n",
       "\t<tr><th></th><th scope=col>COWcode</th><th scope=col>year</th><th scope=col>CW_Onset</th><th scope=col>Fearon and Latin (2003)</th><th scope=col>Collier and Hoeffler (2004)</th><th scope=col>Hegre and Sambanis (2006)</th><th scope=col>Random Forest</th></tr>\n",
       "\t<tr><th></th><th scope=col>&lt;dbl&gt;</th><th scope=col>&lt;dbl&gt;</th><th scope=col>&lt;dbl&gt;</th><th scope=col>&lt;dbl&gt;</th><th scope=col>&lt;dbl&gt;</th><th scope=col>&lt;dbl&gt;</th><th scope=col>&lt;dbl&gt;</th></tr>\n",
       "</thead>\n",
       "<tbody>\n",
       "\t<tr><th scope=row>127</th><td>438</td><td>2001</td><td>1</td><td>0.007643157</td><td>0.004191886</td><td>0.006491767</td><td>0.070</td></tr>\n",
       "\t<tr><th scope=row>351</th><td>516</td><td>2001</td><td>1</td><td>0.029228931</td><td>0.003032128</td><td>0.018701560</td><td>0.087</td></tr>\n",
       "\t<tr><th scope=row>365</th><td>517</td><td>2001</td><td>1</td><td>0.008109073</td><td>0.002871234</td><td>0.006613362</td><td>0.046</td></tr>\n",
       "\t<tr><th scope=row>435</th><td>540</td><td>2001</td><td>1</td><td>0.012828092</td><td>0.011095105</td><td>0.016913126</td><td>0.713</td></tr>\n",
       "\t<tr><th scope=row>883</th><td>700</td><td>2001</td><td>1</td><td>0.007259153</td><td>0.003565428</td><td>0.004751861</td><td>0.064</td></tr>\n",
       "\t<tr><th scope=row>296</th><td>500</td><td>2002</td><td>1</td><td>0.015394016</td><td>0.021599486</td><td>0.020239060</td><td>0.928</td></tr>\n",
       "\t<tr><th scope=row>157</th><td>450</td><td>2003</td><td>1</td><td>0.016241764</td><td>0.037933291</td><td>0.026775852</td><td>0.981</td></tr>\n",
       "\t<tr><th scope=row>298</th><td>500</td><td>2004</td><td>1</td><td>0.010231514</td><td>0.004850783</td><td>0.011289025</td><td>0.449</td></tr>\n",
       "\t<tr><th scope=row>704</th><td>645</td><td>2004</td><td>1</td><td>0.031794188</td><td>0.005469389</td><td>0.027515971</td><td>0.162</td></tr>\n",
       "\t<tr><th scope=row>887</th><td>700</td><td>2005</td><td>1</td><td>0.029315460</td><td>0.004919039</td><td>0.020365058</td><td>0.141</td></tr>\n",
       "\t<tr><th scope=row>258</th><td>483</td><td>2006</td><td>1</td><td>0.017430835</td><td>0.039079572</td><td>0.027176410</td><td>0.983</td></tr>\n",
       "\t<tr><th scope=row>385</th><td>520</td><td>2007</td><td>1</td><td>0.062207164</td><td>0.040358742</td><td>0.102998326</td><td>0.958</td></tr>\n",
       "\t<tr><th scope=row>373</th><td>517</td><td>2009</td><td>1</td><td>0.017953746</td><td>0.037015260</td><td>0.027627325</td><td>0.992</td></tr>\n",
       "\t<tr><th scope=row>655</th><td>620</td><td>2011</td><td>1</td><td>0.016593704</td><td>0.038925136</td><td>0.024078652</td><td>0.951</td></tr>\n",
       "\t<tr><th scope=row>740</th><td>652</td><td>2012</td><td>1</td><td>0.008730383</td><td>0.003414724</td><td>0.004249602</td><td>0.060</td></tr>\n",
       "\t<tr><th scope=row>223</th><td>475</td><td>2013</td><td>1</td><td>0.015381165</td><td>0.040062819</td><td>0.028699644</td><td>0.961</td></tr>\n",
       "\t<tr><th scope=row>293</th><td>490</td><td>2013</td><td>1</td><td>0.007904206</td><td>0.002584701</td><td>0.004446999</td><td>0.041</td></tr>\n",
       "\t<tr><th scope=row>713</th><td>645</td><td>2013</td><td>1</td><td>0.015205018</td><td>0.038878924</td><td>0.024541165</td><td>0.964</td></tr>\n",
       "\t<tr><th scope=row>392</th><td>520</td><td>2014</td><td>1</td><td>0.054338828</td><td>0.040375440</td><td>0.107169246</td><td>0.994</td></tr>\n",
       "</tbody>\n",
       "</table>\n"
      ],
      "text/latex": [
       "A xtable: 19 × 7\n",
       "\\begin{tabular}{r|lllllll}\n",
       "  & COWcode & year & CW\\_Onset & Fearon and Latin (2003) & Collier and Hoeffler (2004) & Hegre and Sambanis (2006) & Random Forest\\\\\n",
       "  & <dbl> & <dbl> & <dbl> & <dbl> & <dbl> & <dbl> & <dbl>\\\\\n",
       "\\hline\n",
       "\t127 & 438 & 2001 & 1 & 0.007643157 & 0.004191886 & 0.006491767 & 0.070\\\\\n",
       "\t351 & 516 & 2001 & 1 & 0.029228931 & 0.003032128 & 0.018701560 & 0.087\\\\\n",
       "\t365 & 517 & 2001 & 1 & 0.008109073 & 0.002871234 & 0.006613362 & 0.046\\\\\n",
       "\t435 & 540 & 2001 & 1 & 0.012828092 & 0.011095105 & 0.016913126 & 0.713\\\\\n",
       "\t883 & 700 & 2001 & 1 & 0.007259153 & 0.003565428 & 0.004751861 & 0.064\\\\\n",
       "\t296 & 500 & 2002 & 1 & 0.015394016 & 0.021599486 & 0.020239060 & 0.928\\\\\n",
       "\t157 & 450 & 2003 & 1 & 0.016241764 & 0.037933291 & 0.026775852 & 0.981\\\\\n",
       "\t298 & 500 & 2004 & 1 & 0.010231514 & 0.004850783 & 0.011289025 & 0.449\\\\\n",
       "\t704 & 645 & 2004 & 1 & 0.031794188 & 0.005469389 & 0.027515971 & 0.162\\\\\n",
       "\t887 & 700 & 2005 & 1 & 0.029315460 & 0.004919039 & 0.020365058 & 0.141\\\\\n",
       "\t258 & 483 & 2006 & 1 & 0.017430835 & 0.039079572 & 0.027176410 & 0.983\\\\\n",
       "\t385 & 520 & 2007 & 1 & 0.062207164 & 0.040358742 & 0.102998326 & 0.958\\\\\n",
       "\t373 & 517 & 2009 & 1 & 0.017953746 & 0.037015260 & 0.027627325 & 0.992\\\\\n",
       "\t655 & 620 & 2011 & 1 & 0.016593704 & 0.038925136 & 0.024078652 & 0.951\\\\\n",
       "\t740 & 652 & 2012 & 1 & 0.008730383 & 0.003414724 & 0.004249602 & 0.060\\\\\n",
       "\t223 & 475 & 2013 & 1 & 0.015381165 & 0.040062819 & 0.028699644 & 0.961\\\\\n",
       "\t293 & 490 & 2013 & 1 & 0.007904206 & 0.002584701 & 0.004446999 & 0.041\\\\\n",
       "\t713 & 645 & 2013 & 1 & 0.015205018 & 0.038878924 & 0.024541165 & 0.964\\\\\n",
       "\t392 & 520 & 2014 & 1 & 0.054338828 & 0.040375440 & 0.107169246 & 0.994\\\\\n",
       "\\end{tabular}\n"
      ],
      "text/markdown": [
       "\n",
       "A xtable: 19 × 7\n",
       "\n",
       "| <!--/--> | COWcode &lt;dbl&gt; | year &lt;dbl&gt; | CW_Onset &lt;dbl&gt; | Fearon and Latin (2003) &lt;dbl&gt; | Collier and Hoeffler (2004) &lt;dbl&gt; | Hegre and Sambanis (2006) &lt;dbl&gt; | Random Forest &lt;dbl&gt; |\n",
       "|---|---|---|---|---|---|---|---|\n",
       "| 127 | 438 | 2001 | 1 | 0.007643157 | 0.004191886 | 0.006491767 | 0.070 |\n",
       "| 351 | 516 | 2001 | 1 | 0.029228931 | 0.003032128 | 0.018701560 | 0.087 |\n",
       "| 365 | 517 | 2001 | 1 | 0.008109073 | 0.002871234 | 0.006613362 | 0.046 |\n",
       "| 435 | 540 | 2001 | 1 | 0.012828092 | 0.011095105 | 0.016913126 | 0.713 |\n",
       "| 883 | 700 | 2001 | 1 | 0.007259153 | 0.003565428 | 0.004751861 | 0.064 |\n",
       "| 296 | 500 | 2002 | 1 | 0.015394016 | 0.021599486 | 0.020239060 | 0.928 |\n",
       "| 157 | 450 | 2003 | 1 | 0.016241764 | 0.037933291 | 0.026775852 | 0.981 |\n",
       "| 298 | 500 | 2004 | 1 | 0.010231514 | 0.004850783 | 0.011289025 | 0.449 |\n",
       "| 704 | 645 | 2004 | 1 | 0.031794188 | 0.005469389 | 0.027515971 | 0.162 |\n",
       "| 887 | 700 | 2005 | 1 | 0.029315460 | 0.004919039 | 0.020365058 | 0.141 |\n",
       "| 258 | 483 | 2006 | 1 | 0.017430835 | 0.039079572 | 0.027176410 | 0.983 |\n",
       "| 385 | 520 | 2007 | 1 | 0.062207164 | 0.040358742 | 0.102998326 | 0.958 |\n",
       "| 373 | 517 | 2009 | 1 | 0.017953746 | 0.037015260 | 0.027627325 | 0.992 |\n",
       "| 655 | 620 | 2011 | 1 | 0.016593704 | 0.038925136 | 0.024078652 | 0.951 |\n",
       "| 740 | 652 | 2012 | 1 | 0.008730383 | 0.003414724 | 0.004249602 | 0.060 |\n",
       "| 223 | 475 | 2013 | 1 | 0.015381165 | 0.040062819 | 0.028699644 | 0.961 |\n",
       "| 293 | 490 | 2013 | 1 | 0.007904206 | 0.002584701 | 0.004446999 | 0.041 |\n",
       "| 713 | 645 | 2013 | 1 | 0.015205018 | 0.038878924 | 0.024541165 | 0.964 |\n",
       "| 392 | 520 | 2014 | 1 | 0.054338828 | 0.040375440 | 0.107169246 | 0.994 |\n",
       "\n"
      ],
      "text/plain": [
       "    COWcode year CW_Onset Fearon and Latin (2003) Collier and Hoeffler (2004)\n",
       "127 438     2001 1        0.007643157             0.004191886                \n",
       "351 516     2001 1        0.029228931             0.003032128                \n",
       "365 517     2001 1        0.008109073             0.002871234                \n",
       "435 540     2001 1        0.012828092             0.011095105                \n",
       "883 700     2001 1        0.007259153             0.003565428                \n",
       "296 500     2002 1        0.015394016             0.021599486                \n",
       "157 450     2003 1        0.016241764             0.037933291                \n",
       "298 500     2004 1        0.010231514             0.004850783                \n",
       "704 645     2004 1        0.031794188             0.005469389                \n",
       "887 700     2005 1        0.029315460             0.004919039                \n",
       "258 483     2006 1        0.017430835             0.039079572                \n",
       "385 520     2007 1        0.062207164             0.040358742                \n",
       "373 517     2009 1        0.017953746             0.037015260                \n",
       "655 620     2011 1        0.016593704             0.038925136                \n",
       "740 652     2012 1        0.008730383             0.003414724                \n",
       "223 475     2013 1        0.015381165             0.040062819                \n",
       "293 490     2013 1        0.007904206             0.002584701                \n",
       "713 645     2013 1        0.015205018             0.038878924                \n",
       "392 520     2014 1        0.054338828             0.040375440                \n",
       "    Hegre and Sambanis (2006) Random Forest\n",
       "127 0.006491767               0.070        \n",
       "351 0.018701560               0.087        \n",
       "365 0.006613362               0.046        \n",
       "435 0.016913126               0.713        \n",
       "883 0.004751861               0.064        \n",
       "296 0.020239060               0.928        \n",
       "157 0.026775852               0.981        \n",
       "298 0.011289025               0.449        \n",
       "704 0.027515971               0.162        \n",
       "887 0.020365058               0.141        \n",
       "258 0.027176410               0.983        \n",
       "385 0.102998326               0.958        \n",
       "373 0.027627325               0.992        \n",
       "655 0.024078652               0.951        \n",
       "740 0.004249602               0.060        \n",
       "223 0.028699644               0.961        \n",
       "293 0.004446999               0.041        \n",
       "713 0.024541165               0.964        \n",
       "392 0.107169246               0.994        "
      ]
     },
     "metadata": {},
     "output_type": "display_data"
    }
   ],
   "source": [
    "colnames(predictions) <- c(\n",
    "    \"COWcode\", \"year\", \"CW_Onset\",\n",
    "    \"Fearon and Latin (2003)\",\n",
    "    \"Collier and Hoeffler (2004)\",\n",
    "    \"Hegre and Sambanis (2006)\",\n",
    "    \"Random Forest\")\n",
    "predictions <- as.data.frame(predictions)\n",
    "Onset_table <- predictions[order(-predictions$CW_Onset, predictions$year),]\n",
    "Onset_table_1thru19 <- head(Onset_table, n=19)\n",
    "xtable(Onset_table_1thru19)\n",
    "# uncomment to write this to a CSV\n",
    "# write.csv(predictions, file=\"testing_file_CW_onset_RF_rep_final.csv\")"
   ]
  },
  {
   "cell_type": "markdown",
   "metadata": {},
   "source": [
    "## Figure 3"
   ]
  },
  {
   "cell_type": "markdown",
   "metadata": {},
   "source": [
    "Figure 3 in particular is highly underspecified. Because the goal of assignment 2 is to reproduce **corrected** figures from the paper, we decided our goal in reproducing Figure 3 is to make the adjustments we think the authors would have made to address the comments from other papers. \n",
    "\n",
    "In particular, we took the results from [Neunhoeffer & Sternberg (2019)](https://www.cambridge.org/core/journals/political-analysis/article/how-crossvalidation-can-go-wrong-and-what-to-do-about-it/CA8C4B470E27C99892AB978CE0A3AE29/core-reader) as a reference for how we might correct Muchlinski et al.'s setup and what the average F1 score will likely be after making those adjustments. One footnote included in Neunhoeffer & Sternberg's paper:\n",
    "\n",
    "\"Note that most of the 𝐹1 scores we calculated are substantially smaller than the 𝐹1 scores reported by Muchlinski et al. (2016, 97). Unfortunately we could not find code or data to replicate Figure 3 in the original paper. However, since Muchlinski et al. (2016, 96) note that “[a]ll logistic regression models fail to specify any civil war onset in the out-of-sample data,” the 𝐹1 scores should be close to 0 .\""
   ]
  },
  {
   "cell_type": "code",
   "execution_count": 185,
   "metadata": {},
   "outputs": [],
   "source": [
    "# same functions as the EXTENSION note above\n",
    "confMat <- function(threshold=0.5, pred, obs){\n",
    "    if(class(obs)==\"factor\") obs <- as.numeric(obs)-1\n",
    "\n",
    "    uMat <- matrix(threshold,length(obs),length(threshold),byrow=T)\n",
    "    preds <- c(pred)-uMat > 0\n",
    "    TP <- t(obs)%*%preds\n",
    "    FP <- t(1-obs)%*%preds\n",
    "    TN <- t(1-obs)%*%(1-preds)\n",
    "    FN <- t(obs)%*%(1-preds)\n",
    "\n",
    "    cmMat <- cbind(c(TP),c(FP),c(TN),c(FN))\n",
    "    colnames(cmMat) <- c(\"tp\",\"fp\",\"tn\",\"fn\")\n",
    "    cmMat <- data.frame(cmMat)\n",
    "    return(cmMat)\n",
    "}"
   ]
  },
  {
   "cell_type": "code",
   "execution_count": 61,
   "metadata": {},
   "outputs": [],
   "source": [
    "compute_F1 <- function(model, test) {\n",
    "    predictions <- predict(model, newdata=test, type=\"prob\")\n",
    "    confusion <- confMat(pred=predictions[,2], obs=test[,1])\n",
    "    F1 <- 2*confusion$tp / (2*confusion$tp + confusion$fn + confusion$fp)\n",
    "    return(F1)\n",
    "}"
   ]
  },
  {
   "cell_type": "markdown",
   "metadata": {},
   "source": [
    "We adjusted the setup in Neunhoeffer & Sternberg slightly: they evaluate on out-of-sample data where the data is divided into pre-1989 (training) and post-1989 (out-of-sample testing). Because Muchlinski et al. does not specify this kind of split in the code for Figs 1 and 2, and the manuscript also doesn't seem to suggest that Fig 3 was evaluated on out-of-sample data, we do not make the split here. \n",
    " \n",
    "Some notes for the code below:\n",
    "- We collect the F1 scores over `p = [0.2, 0.4, 0.6, 0.8] * nrow(data.full)` training samples\n",
    "- For each `p`, we always test on 10% of `data.full`, where the available training and testing data is selected through 10-fold stratified cross-validation (as described in Neunhoeffer & Sternberg).\n",
    "- All RF, logistic regression, and L1-regularized logistic regression models are evaluated over the same 10 folds (i.e. same training and testing data). \n",
    "- For the logistic regression model, we chose to use the Hegre and Sambanis (2006) model, but results are similar for the other models cited in Muchlinski et. al's paper."
   ]
  },
  {
   "cell_type": "code",
   "execution_count": 64,
   "metadata": {},
   "outputs": [],
   "source": [
    "training_df <- data.full\n",
    "\n",
    "# Create folds for 10-fold cross-validation\n",
    "nrFolds <- 10\n",
    "# We use stratified cross-validation (to have similar distributions of 1s and 0s)\n",
    "folds <- rep(NA, nrow(training_df))\n",
    "\n",
    "folds[training_df[,1]==\"peace\"] <-\n",
    "  rep_len(1:nrFolds,\n",
    "          sum(training_df[,1]==\"peace\"))[sample(sum(training_df[,1]==\"peace\"),\n",
    "                                                sum(training_df[,1]==\"peace\"))]\n",
    "\n",
    "folds[training_df[,1]==\"war\"] <-\n",
    "  rep_len(1:nrFolds,\n",
    "          sum(training_df[,1]==\"war\"))[sample(sum(training_df[,1]==\"war\"),\n",
    "                                              sum(training_df[,1]==\"war\"))]"
   ]
  },
  {
   "cell_type": "code",
   "execution_count": 65,
   "metadata": {},
   "outputs": [],
   "source": [
    "prop <- list(0.2, 0.4, 0.6, 0.8)\n",
    "tc.rf <- trainControl(\n",
    "            method=\"none\",\n",
    "            summaryFunction=twoClassSummary,\n",
    "            classProb=T, savePredictions=T)"
   ]
  },
  {
   "cell_type": "code",
   "execution_count": 66,
   "metadata": {},
   "outputs": [
    {
     "name": "stdout",
     "output_type": "stream",
     "text": [
      "[1] 0.2\n"
     ]
    },
    {
     "name": "stderr",
     "output_type": "stream",
     "text": [
      "Warning message:\n",
      "“glm.fit: fitted probabilities numerically 0 or 1 occurred”\n",
      "Warning message:\n",
      "“glm.fit: fitted probabilities numerically 0 or 1 occurred”\n",
      "Warning message:\n",
      "“glm.fit: fitted probabilities numerically 0 or 1 occurred”\n",
      "Warning message:\n",
      "“glm.fit: fitted probabilities numerically 0 or 1 occurred”\n",
      "Warning message:\n",
      "“glm.fit: fitted probabilities numerically 0 or 1 occurred”\n",
      "Warning message:\n",
      "“glm.fit: fitted probabilities numerically 0 or 1 occurred”\n",
      "Warning message:\n",
      "“glm.fit: fitted probabilities numerically 0 or 1 occurred”\n",
      "Warning message:\n",
      "“glm.fit: fitted probabilities numerically 0 or 1 occurred”\n",
      "Warning message:\n",
      "“glm.fit: fitted probabilities numerically 0 or 1 occurred”\n"
     ]
    },
    {
     "name": "stdout",
     "output_type": "stream",
     "text": [
      "[1] 0.1610031\n",
      "[1] 0.01538462\n",
      "[1] 0\n",
      "[1] 0.4\n"
     ]
    },
    {
     "name": "stderr",
     "output_type": "stream",
     "text": [
      "Warning message:\n",
      "“glm.fit: fitted probabilities numerically 0 or 1 occurred”\n",
      "Warning message:\n",
      "“glm.fit: fitted probabilities numerically 0 or 1 occurred”\n"
     ]
    },
    {
     "name": "stdout",
     "output_type": "stream",
     "text": [
      "[1] 0.1533779\n",
      "[1] 0.02967033\n",
      "[1] 0\n",
      "[1] 0.6\n"
     ]
    },
    {
     "name": "stderr",
     "output_type": "stream",
     "text": [
      "Warning message:\n",
      "“glm.fit: fitted probabilities numerically 0 or 1 occurred”\n",
      "Warning message:\n",
      "“glm.fit: fitted probabilities numerically 0 or 1 occurred”\n",
      "Warning message:\n",
      "“glm.fit: fitted probabilities numerically 0 or 1 occurred”\n",
      "Warning message:\n",
      "“glm.fit: fitted probabilities numerically 0 or 1 occurred”\n"
     ]
    },
    {
     "name": "stdout",
     "output_type": "stream",
     "text": [
      "[1] 0.1694253\n",
      "[1] 0.01333333\n",
      "[1] 0.01538462\n",
      "[1] 0.8\n"
     ]
    },
    {
     "name": "stderr",
     "output_type": "stream",
     "text": [
      "Warning message:\n",
      "“glm.fit: fitted probabilities numerically 0 or 1 occurred”\n",
      "Warning message:\n",
      "“glm.fit: fitted probabilities numerically 0 or 1 occurred”\n"
     ]
    },
    {
     "name": "stdout",
     "output_type": "stream",
     "text": [
      "[1] 0.1764667\n",
      "[1] 0.01333333\n",
      "[1] 0.01428571\n"
     ]
    }
   ],
   "source": [
    "f1_df <- NULL\n",
    "\n",
    "for(p in prop) {\n",
    "    print(p)\n",
    "    n_samples <- p * nrow(training_df)\n",
    "    rf_F1 <- NULL  # random forest \n",
    "    lr_F1 <- NULL  # logistic regression \n",
    "    l1_lr_F1 <- NULL  # L1-regularized logistic regression \n",
    "    for(k in 1:nrFolds) {\n",
    "        fold <- which(folds == k)\n",
    "        \n",
    "        tsamples <- sample(nrow(training_df[-fold,]), n_samples)\n",
    "        cv_train <- training_df[-fold,][tsamples,]\n",
    "        cv_test <- training_df[fold,]\n",
    "        \n",
    "        rf_cv <- train(\n",
    "            as.factor(warstds)~.,\n",
    "            method=\"rf\", \n",
    "            metric=\"ROC\", \n",
    "            # note the update to `sampsize` to balance the war and peace samples, \n",
    "            # this is an adjustment made in Neunhoeffer & Sternberg (2019) \n",
    "            sampsize=c(sum(cv_train[,1]==\"war\"),\n",
    "                       sum(cv_train[,1]==\"war\")),\n",
    "            importance=T, proximity=F, ntree=1000,\n",
    "            trControl=tc.rf, data=cv_train)\n",
    "        rf_F1 <- c(rf_F1, compute_F1(rf_cv, cv_test))\n",
    "        \n",
    "        # we chose the Hegre and Sambanis (2006) logreg model, but results are\n",
    "        # similar for the other logreg models cited in the paper\n",
    "        lr_cv <- train(\n",
    "            warstds~lpopns+ln_gdpen+inst3+parreg+geo34+proxregc+gdpgrowth+anoc\n",
    "               +partfree+nat_war+lmtnest+decade1+pol4sq+nwstate+regd4_alt+etdo4590+milper\n",
    "               +geo1+tnatwar+presi,\n",
    "            metric=\"ROC\", method=\"glm\", family=\"binomial\", \n",
    "            trControl=tc, data=cv_train)\n",
    "        lr_F1 <- c(lr_F1, compute_F1(lr_cv, cv_test))\n",
    "        \n",
    "        l1_lr_cv <- train(\n",
    "            warstds~lpopns+ln_gdpen+inst3+parreg+geo34+proxregc+gdpgrowth+anoc\n",
    "               +partfree+nat_war+lmtnest+decade1+pol4sq+nwstate+regd4_alt+etdo4590+milper\n",
    "               +geo1+tnatwar+presi,\n",
    "            metric=\"ROC\", \n",
    "            method=\"regLogistic\",\n",
    "            tuneGrid=expand.grid(loss='L1', epsilon=c(0.001, 0.01, 0.1), cost=c(0.5, 1.0, 2.0)),\n",
    "            trControl=tc, \n",
    "            data=cv_train)\n",
    "        l1_lr_F1 <- c(l1_lr_F1, compute_F1(l1_lr_cv, cv_test))\n",
    "    }\n",
    "    print(mean(rf_F1, na.rm = T))\n",
    "    print(mean(lr_F1, na.rm = T))\n",
    "    print(mean(l1_lr_F1, na.rm = T))\n",
    "    \n",
    "    f1_df <- rbind(f1_df, data.frame(Model=\"RF\", F1=rf_F1, Training_prop=p))\n",
    "    f1_df <- rbind(f1_df, data.frame(Model=\"Logreg\", F1=lr_F1, Training_prop=p))\n",
    "    f1_df <- rbind(f1_df, data.frame(Model=\"L1_Logreg\", F1=l1_lr_F1, Training_prop=p))\n",
    "}"
   ]
  },
  {
   "cell_type": "code",
   "execution_count": 67,
   "metadata": {},
   "outputs": [
    {
     "name": "stderr",
     "output_type": "stream",
     "text": [
      "\n",
      "Attaching package: ‘dplyr’\n",
      "\n",
      "\n",
      "The following object is masked from ‘package:randomForest’:\n",
      "\n",
      "    combine\n",
      "\n",
      "\n",
      "The following objects are masked from ‘package:stats’:\n",
      "\n",
      "    filter, lag\n",
      "\n",
      "\n",
      "The following objects are masked from ‘package:base’:\n",
      "\n",
      "    intersect, setdiff, setequal, union\n",
      "\n",
      "\n"
     ]
    }
   ],
   "source": [
    "library(dplyr)\n",
    "library(ggplot2)"
   ]
  },
  {
   "cell_type": "code",
   "execution_count": 68,
   "metadata": {},
   "outputs": [
    {
     "data": {
      "text/html": [
       "<table>\n",
       "<caption>A data.frame: 12 × 4</caption>\n",
       "<thead>\n",
       "\t<tr><th scope=col>Group.1</th><th scope=col>Group.2</th><th scope=col>x</th><th scope=col>sd</th></tr>\n",
       "\t<tr><th scope=col>&lt;dbl&gt;</th><th scope=col>&lt;fct&gt;</th><th scope=col>&lt;dbl&gt;</th><th scope=col>&lt;dbl&gt;</th></tr>\n",
       "</thead>\n",
       "<tbody>\n",
       "\t<tr><td>0.2</td><td>RF       </td><td>0.16100310</td><td>0.03482264</td></tr>\n",
       "\t<tr><td>0.4</td><td>RF       </td><td>0.15337793</td><td>0.02863705</td></tr>\n",
       "\t<tr><td>0.6</td><td>RF       </td><td>0.16942531</td><td>0.03172768</td></tr>\n",
       "\t<tr><td>0.8</td><td>RF       </td><td>0.17646669</td><td>0.02597212</td></tr>\n",
       "\t<tr><td>0.2</td><td>Logreg   </td><td>0.01538462</td><td>0.04865043</td></tr>\n",
       "\t<tr><td>0.4</td><td>Logreg   </td><td>0.02967033</td><td>0.06260415</td></tr>\n",
       "\t<tr><td>0.6</td><td>Logreg   </td><td>0.01333333</td><td>0.04216370</td></tr>\n",
       "\t<tr><td>0.8</td><td>Logreg   </td><td>0.01333333</td><td>0.04216370</td></tr>\n",
       "\t<tr><td>0.2</td><td>L1_Logreg</td><td>0.00000000</td><td>0.00000000</td></tr>\n",
       "\t<tr><td>0.4</td><td>L1_Logreg</td><td>0.00000000</td><td>0.00000000</td></tr>\n",
       "\t<tr><td>0.6</td><td>L1_Logreg</td><td>0.01538462</td><td>0.04865043</td></tr>\n",
       "\t<tr><td>0.8</td><td>L1_Logreg</td><td>0.01428571</td><td>0.04517540</td></tr>\n",
       "</tbody>\n",
       "</table>\n"
      ],
      "text/latex": [
       "A data.frame: 12 × 4\n",
       "\\begin{tabular}{llll}\n",
       " Group.1 & Group.2 & x & sd\\\\\n",
       " <dbl> & <fct> & <dbl> & <dbl>\\\\\n",
       "\\hline\n",
       "\t 0.2 & RF        & 0.16100310 & 0.03482264\\\\\n",
       "\t 0.4 & RF        & 0.15337793 & 0.02863705\\\\\n",
       "\t 0.6 & RF        & 0.16942531 & 0.03172768\\\\\n",
       "\t 0.8 & RF        & 0.17646669 & 0.02597212\\\\\n",
       "\t 0.2 & Logreg    & 0.01538462 & 0.04865043\\\\\n",
       "\t 0.4 & Logreg    & 0.02967033 & 0.06260415\\\\\n",
       "\t 0.6 & Logreg    & 0.01333333 & 0.04216370\\\\\n",
       "\t 0.8 & Logreg    & 0.01333333 & 0.04216370\\\\\n",
       "\t 0.2 & L1\\_Logreg & 0.00000000 & 0.00000000\\\\\n",
       "\t 0.4 & L1\\_Logreg & 0.00000000 & 0.00000000\\\\\n",
       "\t 0.6 & L1\\_Logreg & 0.01538462 & 0.04865043\\\\\n",
       "\t 0.8 & L1\\_Logreg & 0.01428571 & 0.04517540\\\\\n",
       "\\end{tabular}\n"
      ],
      "text/markdown": [
       "\n",
       "A data.frame: 12 × 4\n",
       "\n",
       "| Group.1 &lt;dbl&gt; | Group.2 &lt;fct&gt; | x &lt;dbl&gt; | sd &lt;dbl&gt; |\n",
       "|---|---|---|---|\n",
       "| 0.2 | RF        | 0.16100310 | 0.03482264 |\n",
       "| 0.4 | RF        | 0.15337793 | 0.02863705 |\n",
       "| 0.6 | RF        | 0.16942531 | 0.03172768 |\n",
       "| 0.8 | RF        | 0.17646669 | 0.02597212 |\n",
       "| 0.2 | Logreg    | 0.01538462 | 0.04865043 |\n",
       "| 0.4 | Logreg    | 0.02967033 | 0.06260415 |\n",
       "| 0.6 | Logreg    | 0.01333333 | 0.04216370 |\n",
       "| 0.8 | Logreg    | 0.01333333 | 0.04216370 |\n",
       "| 0.2 | L1_Logreg | 0.00000000 | 0.00000000 |\n",
       "| 0.4 | L1_Logreg | 0.00000000 | 0.00000000 |\n",
       "| 0.6 | L1_Logreg | 0.01538462 | 0.04865043 |\n",
       "| 0.8 | L1_Logreg | 0.01428571 | 0.04517540 |\n",
       "\n"
      ],
      "text/plain": [
       "   Group.1 Group.2   x          sd        \n",
       "1  0.2     RF        0.16100310 0.03482264\n",
       "2  0.4     RF        0.15337793 0.02863705\n",
       "3  0.6     RF        0.16942531 0.03172768\n",
       "4  0.8     RF        0.17646669 0.02597212\n",
       "5  0.2     Logreg    0.01538462 0.04865043\n",
       "6  0.4     Logreg    0.02967033 0.06260415\n",
       "7  0.6     Logreg    0.01333333 0.04216370\n",
       "8  0.8     Logreg    0.01333333 0.04216370\n",
       "9  0.2     L1_Logreg 0.00000000 0.00000000\n",
       "10 0.4     L1_Logreg 0.00000000 0.00000000\n",
       "11 0.6     L1_Logreg 0.01538462 0.04865043\n",
       "12 0.8     L1_Logreg 0.01428571 0.04517540"
      ]
     },
     "metadata": {},
     "output_type": "display_data"
    }
   ],
   "source": [
    "summary_df <- aggregate(x=f1_df$F1, by=list(f1_df$Training_prop, f1_df$Model), FUN=mean)\n",
    "std_data <- aggregate(x=f1_df$F1, by=list(f1_df$Training_prop, f1_df$Model), FUN=sd)\n",
    "summary_df$sd <- std_data$x\n",
    "summary_df"
   ]
  },
  {
   "cell_type": "markdown",
   "metadata": {},
   "source": [
    "### Figure 3, Random Forest"
   ]
  },
  {
   "cell_type": "code",
   "execution_count": 69,
   "metadata": {},
   "outputs": [
    {
     "data": {
      "image/png": "[encoded data removed]",
      "text/plain": [
       "plot without title"
      ]
     },
     "metadata": {
      "image/png": {
       "height": 420,
       "width": 420
      }
     },
     "output_type": "display_data"
    }
   ],
   "source": [
    "p <- ggplot(summary_df[summary_df$Group.2 == 'RF',], aes(x=Group.1, y=x)) + \n",
    "  geom_line(linetype='dashed') +\n",
    "  geom_point(shape=8, size=3, stroke=2)+\n",
    "  geom_errorbar(aes(ymin=x-sd, ymax=x+sd), width=.01,\n",
    "                 position=position_dodge(0.05))\n",
    "p + labs(title=\"Random Forest\", x=\"Training Ratio\", y = \"F1 Score\") +\n",
    "    ylim(0, 0.3) +\n",
    "    theme_classic() +\n",
    "    scale_color_manual(values=c('#999999','#E69F00'))"
   ]
  },
  {
   "cell_type": "markdown",
   "metadata": {},
   "source": [
    "### Figure 3, Logistic Regression"
   ]
  },
  {
   "cell_type": "code",
   "execution_count": 70,
   "metadata": {},
   "outputs": [
    {
     "data": {
      "image/png": "[encoded data removed]",
      "text/plain": [
       "plot without title"
      ]
     },
     "metadata": {
      "image/png": {
       "height": 420,
       "width": 420
      }
     },
     "output_type": "display_data"
    }
   ],
   "source": [
    "p <- ggplot(summary_df[summary_df$Group.2 == 'Logreg',], aes(x=Group.1, y=x)) + #, group=supp, color=supp)) + \n",
    "  geom_line() +\n",
    "  geom_point(shape=15, size=3, stroke=3)+\n",
    "  geom_errorbar(aes(ymin=max(0, x-sd), ymax=x+sd), width=.01,\n",
    "                 position=position_dodge(0.05))\n",
    "p + labs(title=\"LR\", x=\"Training Ratio\", y = \"F1 Score\") +\n",
    "    ylim(0, 0.3) +\n",
    "    theme_classic() +\n",
    "    scale_color_manual(values=c('#999999','#E69F00'))"
   ]
  },
  {
   "cell_type": "markdown",
   "metadata": {},
   "source": [
    "### Figure 3, L1-regularized Logistic Regression"
   ]
  },
  {
   "cell_type": "code",
   "execution_count": 71,
   "metadata": {
    "scrolled": false
   },
   "outputs": [
    {
     "data": {
      "image/png": "[encoded data removed]",
      "text/plain": [
       "plot without title"
      ]
     },
     "metadata": {
      "image/png": {
       "height": 420,
       "width": 420
      }
     },
     "output_type": "display_data"
    }
   ],
   "source": [
    "p <- ggplot(summary_df[summary_df$Group.2 == 'L1_Logreg',], aes(x=Group.1, y=x)) + #, group=supp, color=supp)) + \n",
    "  geom_line(linetype='dotdash') +\n",
    "  geom_point(shape=1, size=5, stroke=1)+\n",
    "  geom_errorbar(aes(ymin=max(0, x-sd), ymax=x+sd), width=.01,\n",
    "                 position=position_dodge(0.05))\n",
    "p + labs(title=\"L1-regularized LR\", x=\"Training Ratio\", y = \"F1 Score\") +\n",
    "    ylim(0, 0.3) +\n",
    "    theme_classic() +\n",
    "    scale_color_manual(values=c('#999999','#E69F00'))"
   ]
  },
  {
   "cell_type": "markdown",
   "metadata": {},
   "source": [
    "## extra stuff for testing and debugging, will remove soon"
   ]
  },
  {
   "cell_type": "code",
   "execution_count": 427,
   "metadata": {},
   "outputs": [
    {
     "name": "stderr",
     "output_type": "stream",
     "text": [
      "Warning message in nominalTrainWorkflow(x = x, y = y, wts = weights, info = trainInfo, :\n",
      "“There were missing values in resampled performance measures.”\n"
     ]
    },
    {
     "name": "stdout",
     "output_type": "stream",
     "text": [
      "Something is wrong; all the ROC metric values are missing:\n",
      "      ROC           Sens          Spec    \n",
      " Min.   : NA   Min.   : NA   Min.   : NA  \n",
      " 1st Qu.: NA   1st Qu.: NA   1st Qu.: NA  \n",
      " Median : NA   Median : NA   Median : NA  \n",
      " Mean   :NaN   Mean   :NaN   Mean   :NaN  \n",
      " 3rd Qu.: NA   3rd Qu.: NA   3rd Qu.: NA  \n",
      " Max.   : NA   Max.   : NA   Max.   : NA  \n",
      " NA's   :3     NA's   :3     NA's   :3    \n"
     ]
    },
    {
     "ename": "ERROR",
     "evalue": "Error: Stopping\n",
     "output_type": "error",
     "traceback": [
      "Error: Stopping\nTraceback:\n",
      "1. train(as.factor(warstds) ~ ., method = \"rf\", metric = \"ROC\", \n .     sampsize = c(sum(cv_training[, 1] == \"war\"), sum(cv_training[, \n .         1] == \"war\")), importance = T, proximity = F, ntree = 1000, \n .     trControl = tc.lr, data = cv_training)",
      "2. train.formula(as.factor(warstds) ~ ., method = \"rf\", metric = \"ROC\", \n .     sampsize = c(sum(cv_training[, 1] == \"war\"), sum(cv_training[, \n .         1] == \"war\")), importance = T, proximity = F, ntree = 1000, \n .     trControl = tc.lr, data = cv_training)",
      "3. train(x, y, weights = w, ...)",
      "4. train.default(x, y, weights = w, ...)",
      "5. stop(\"Stopping\", call. = FALSE)"
     ]
    }
   ],
   "source": [
    "rf_cv <- train(\n",
    "            as.factor(warstds)~.,\n",
    "            method=\"rf\", \n",
    "            metric=\"ROC\", \n",
    "            sampsize=c(sum(cv_training[,1]==\"war\"),\n",
    "                       sum(cv_training[,1]==\"war\")),\n",
    "            importance=T,\n",
    "            proximity=F, \n",
    "            ntree=1000,\n",
    "            trControl=tc.lr,\n",
    "            data=cv_training)"
   ]
  },
  {
   "cell_type": "code",
   "execution_count": 425,
   "metadata": {},
   "outputs": [
    {
     "data": {
      "text/html": [
       "0.164179104477612"
      ],
      "text/latex": [
       "0.164179104477612"
      ],
      "text/markdown": [
       "0.164179104477612"
      ],
      "text/plain": [
       "[1] 0.1641791"
      ]
     },
     "metadata": {},
     "output_type": "display_data"
    }
   ],
   "source": [
    "compute_F1(rf_cv, cv_test)"
   ]
  },
  {
   "cell_type": "code",
   "execution_count": 435,
   "metadata": {},
   "outputs": [],
   "source": [
    "tmp_tc <- trainControl(\n",
    "            method=\"cv\",\n",
    "            number=10,\n",
    "            summaryFunction=twoClassSummary,\n",
    "            classProb=T,\n",
    "            #savePredictions=T,\n",
    "        )\n",
    "l1_lr_cv <- train(\n",
    "            as.factor(warstds)~.,\n",
    "            metric=\"ROC\", \n",
    "            method=\"regLogistic\",\n",
    "            loss=\"L1\",\n",
    "            tuneGrid=expand.grid(loss='L1', epsilon=c(0.001, 0.01, 0.1), cost=c(0.5, 1.0, 2.0)),\n",
    "            trControl=tmp_tc, \n",
    "            data=cv_training)"
   ]
  },
  {
   "cell_type": "code",
   "execution_count": 436,
   "metadata": {},
   "outputs": [
    {
     "data": {
      "text/plain": [
       "Regularized Logistic Regression \n",
       "\n",
       "5712 samples\n",
       "  90 predictor\n",
       "   2 classes: 'peace', 'war' \n",
       "\n",
       "No pre-processing\n",
       "Resampling: Cross-Validated (10 fold) \n",
       "Summary of sample sizes: 5142, 5141, 5141, 5141, 5141, 5141, ... \n",
       "Resampling results across tuning parameters:\n",
       "\n",
       "  epsilon  cost  ROC        Sens       Spec\n",
       "  0.001    0.5   0.8064127  1.0000000  0.00\n",
       "  0.001    1.0   0.8050302  0.9998221  0.01\n",
       "  0.001    2.0   0.8168542  0.9991091  0.01\n",
       "  0.010    0.5   0.8097129  1.0000000  0.00\n",
       "  0.010    1.0   0.8136569  0.9996438  0.01\n",
       "  0.010    2.0   0.8204242  0.9991091  0.01\n",
       "  0.100    0.5   0.8135148  1.0000000  0.00\n",
       "  0.100    1.0   0.8202774  1.0000000  0.01\n",
       "  0.100    2.0   0.8261772  0.9996435  0.01\n",
       "\n",
       "Tuning parameter 'loss' was held constant at a value of L1\n",
       "ROC was used to select the optimal model using the largest value.\n",
       "The final values used for the model were cost = 2, loss = L1 and epsilon = 0.1."
      ]
     },
     "metadata": {},
     "output_type": "display_data"
    }
   ],
   "source": [
    "l1_lr_cv"
   ]
  },
  {
   "cell_type": "code",
   "execution_count": 255,
   "metadata": {},
   "outputs": [
    {
     "name": "stdout",
     "output_type": "stream",
     "text": [
      "[1] 0.2\n",
      " [1] 0.7989757 0.5197681 0.8077900 0.7520000 0.8521242 0.7481052 0.7913978\n",
      " [8] 0.7702407 0.8191758 0.7729258\n",
      "[1] 0.7632503\n",
      "[1] 0.4\n",
      " [1] 0.8225941 0.7849741 0.8030625 0.7965812 0.7886354 0.8548190 0.8163094\n",
      " [8] 0.7107438 0.7974359 0.8482618\n",
      "[1] 0.8023417\n",
      "[1] 0.6\n",
      " [1] 0.8222501 0.7986348 0.7613586 0.8138163 0.7505558 0.7536618 0.8003413\n",
      " [8] 0.8221013 0.8148148 0.8116554\n",
      "[1] 0.794919\n",
      "[1] 0.8\n",
      " [1] 0.8192872 0.8222501 0.8153134 0.8222501 0.8178002 0.8237260 0.8173037\n",
      " [8] 0.8182963 0.8173037 0.8207705\n",
      "[1] 0.8194301\n"
     ]
    }
   ],
   "source": [
    "for(p in prop) {\n",
    "    F1 <- NULL\n",
    "    n_samples <- p * nrow(pred_data.full)\n",
    "    print(p)\n",
    "    for(k in 1:nIter) {\n",
    "        tsamples <- sample(nrow(trainIndex), n_samples)\n",
    "        ptrain <- data.full[trainIndex,][tsamples,]\n",
    "        \n",
    "        pr.tc <- trainControl(\n",
    "            method=\"cv\",\n",
    "            number=10,\n",
    "            summaryFunction=twoClassSummary,\n",
    "            classProb=T,\n",
    "            #savePredictions=T,\n",
    "        )\n",
    "        \n",
    "        pr.rf <- train(\n",
    "            as.factor(warstds)~.,\n",
    "            method=\"rf\", metric=\"ROC\",\n",
    "            sampsize=c(floor(0.0043*sum(ptrain[,1]==\"peace\")),\n",
    "                       floor(0.78*sum(ptrain[,1]==\"war\"))),\n",
    "            importance=T,\n",
    "            proximity=F, \n",
    "            ntree=1000,\n",
    "            trControl=pr.tc,\n",
    "            data=ptrain\n",
    "        )\n",
    "        \n",
    "        #pr.l1_logreg <- train(\n",
    "        #    as.factor(warstds)~.,\n",
    "        #    metric=\"ROC\", method=\"regLogistic\",\n",
    "        #    trControl=pr.tc,\n",
    "        #    data=pTrain)\n",
    "\n",
    "        #pr.logreg <- train(\n",
    "        #   as.factor(warstds)~., \n",
    "        #    metric=\"ROC\", method=\"glm\", family=\"binomial\",\n",
    "        #    trControl=tc, data=pTrain)\n",
    "        pr.rf.pred <- predict(pr.rf, newdata=testData, type=\"prob\")\n",
    "        #confusion <- confMat(pred=pr.rf.pred[,2], obs=testData[,1])\n",
    "        #tmp_F1 <- 2*confusion$tp / (2*confusion$tp + confusion$fn + confusion$fp)\n",
    "        tmp_F1 <- F1_Score(y_true=as.numeric(testData[,1])-1, y_pred=ifelse(pr.rf.pred[,2] >= .5, 1, 0))#pr.rf.pred[,2])\n",
    "        F1 <- c(F1, tmp_F1)\n",
    "    }\n",
    "    print(F1)\n",
    "    print(mean(F1, na.rm = T))\n",
    "}"
   ]
  },
  {
   "cell_type": "code",
   "execution_count": 179,
   "metadata": {},
   "outputs": [
    {
     "name": "stderr",
     "output_type": "stream",
     "text": [
      "Setting levels: control = peace, case = war\n",
      "\n",
      "Setting direction: controls < cases\n",
      "\n",
      "Setting levels: control = peace, case = war\n",
      "\n",
      "Setting direction: controls < cases\n",
      "\n",
      "Setting levels: control = peace, case = war\n",
      "\n",
      "Setting direction: controls < cases\n",
      "\n",
      "Setting levels: control = peace, case = war\n",
      "\n",
      "Setting direction: controls < cases\n",
      "\n",
      "Setting levels: control = peace, case = war\n",
      "\n",
      "Setting direction: controls < cases\n",
      "\n",
      "Setting levels: control = peace, case = war\n",
      "\n",
      "Setting direction: controls < cases\n",
      "\n",
      "Setting levels: control = peace, case = war\n",
      "\n",
      "Setting direction: controls < cases\n",
      "\n",
      "Setting levels: control = peace, case = war\n",
      "\n",
      "Setting direction: controls < cases\n",
      "\n",
      "Setting levels: control = peace, case = war\n",
      "\n",
      "Setting direction: controls < cases\n",
      "\n",
      "Setting levels: control = peace, case = war\n",
      "\n",
      "Setting direction: controls < cases\n",
      "\n"
     ]
    }
   ],
   "source": [
    "F1 <- NULL\n",
    "ROCAUC <- NULL\n",
    "PRAUC <-NULL\n",
    "# actual cross validation\n",
    "for(k in 1:nrFolds) {\n",
    "  # actual split of the data\n",
    "  fold <- which(folds == k)\n",
    "  cv_training <- training_df[-fold,]\n",
    "  cv_test <- training_df[fold,]\n",
    "\n",
    "  rf_cv <- randomForest(warstds~., data = cv_training, ntree = 1000)\n",
    "  predictions <- predict(rf_cv, newdata = cv_test ,type = \"prob\")\n",
    "\n",
    "  confusion <- confMat(pred = predictions[,2], obs = cv_test$warstds)\n",
    "\n",
    "  tmp_F1 <- 2*confusion$tp / (2*confusion$tp + confusion$fn + confusion$fp)\n",
    "\n",
    "  F1 <- c(F1, tmp_F1)\n",
    "\n",
    "  tmp_ROCAUC <- as.numeric(roc(cv_test$warstds, predictions[,2])$auc)\n",
    "\n",
    "  ROCAUC <- c(ROCAUC, tmp_ROCAUC)\n",
    "\n",
    "  tmp_PRAUC <- aucPRp(predictions[,2], (as.numeric(cv_test[,1])-1))\n",
    "\n",
    "  PRAUC <- c(PRAUC, tmp_PRAUC)\n",
    "}"
   ]
  },
  {
   "cell_type": "code",
   "execution_count": 229,
   "metadata": {},
   "outputs": [],
   "source": [
    "# Procedure 5 weird MSHK apparent error\n",
    "\n",
    "F1 <- NULL\n",
    "ROCAUC <- NULL\n",
    "PRAUC <-NULL\n",
    "\n",
    "# Original Code by MSHK just changing data.full to training_df\n",
    "\n",
    "train_df <- data.full[trainIndex,]\n",
    "\n",
    "tc <- trainControl(method=\"cv\",\n",
    "                   number=10,#creates CV folds - 10 for this data\n",
    "                   summaryFunction=twoClassSummary, # provides ROC summary stats in call to model\n",
    "                   classProb=T)\n",
    "\n",
    "model.rf<-train(as.factor(warstds)~.,\n",
    "                metric=\"ROC\", method=\"rf\",\n",
    "                sampsize=c(floor(0.0043*sum(trainData[,1]==\"peace\")),\n",
    "                           floor(0.78*sum(trainData[,1]==\"war\"))), #Downsampling the class-imbalanced DV\n",
    "                importance=T, # Variable importance measures retained\n",
    "                proximity=F, ntree=1000, # number of trees grown\n",
    "                trControl=tc, data=trainData)\n",
    "\n",
    "\n",
    "predictions <- predict(model.rf, newdata=testData, type=\"prob\")\n",
    "\n",
    "confusion <- confMat(pred=predictions[,2], obs=testData[,1])\n",
    "\n",
    "tmp_F1 <- 2*confusion$tp / (2*confusion$tp + confusion$fn + confusion$fp)\n",
    "\n",
    "F1 <- c(F1, tmp_F1)\n",
    "\n",
    "#tmp_ROCAUC <- as.numeric(roc(train_df[,1], predictions[,2])$auc)\n",
    "\n",
    "#ROCAUC <- c(ROCAUC, tmp_ROCAUC)\n",
    "\n",
    "#tmp_PRAUC <- aucPRp(predictions[,2], (as.numeric(train_df[,1])-1))\n",
    "\n",
    "#PRAUC <- c(PRAUC, tmp_PRAUC)\n",
    "\n",
    "#res_re <- rbind(res_re, data.frame(Model = \"Procedure 5\",\n",
    "#                                   F1 = mean(F1, na.rm = T),\n",
    "#                                   ROC_AUC = mean(ROCAUC, na.rm = T),\n",
    "#                                   PR_AUC = mean(PRAUC)))"
   ]
  },
  {
   "cell_type": "code",
   "execution_count": null,
   "metadata": {},
   "outputs": [],
   "source": [
    "#cv_F1 <- F1_Score(factor(ifelse(predictions[,2] > .5, \"war\", \"peace\")),\n",
    "    #                  cv_test[,1],\n",
    "    #                  positive=\"war\")\n",
    "    "
   ]
  },
  {
   "cell_type": "code",
   "execution_count": 457,
   "metadata": {},
   "outputs": [],
   "source": [
    "rf_cv <- train(\n",
    "    as.factor(warstds)~.,\n",
    "    method=\"rf\", \n",
    "    metric=\"ROC\", \n",
    "    sampsize=c(30, 90),\n",
    "    #sampsize=c(sum(cv_train[,1]==\"war\"),\n",
    "    #           sum(cv_train[,1]==\"war\")),\n",
    "    importance=T, proximity=F, ntree=1000,\n",
    "    trControl=tc.rf, data=data.full)\n",
    "rf_F1 <- c(rf_F1, compute_F1(rf_cv, data.full))\n",
    "\n",
    "lr_cv <- train(\n",
    "    warstds~lpopns+ln_gdpen+inst3+parreg+geo34+proxregc+gdpgrowth+anoc\n",
    "       +partfree+nat_war+lmtnest+decade1+pol4sq+nwstate+regd4_alt+etdo4590+milper\n",
    "       +geo1+tnatwar+presi,\n",
    "    metric=\"ROC\", method=\"glm\", family=\"binomial\", \n",
    "    trControl=tc, data=data.full)\n",
    "lr_F1 <- c(lr_F1, compute_F1(lr_cv, data.full))\n",
    "\n",
    "l1_lr_cv <- train(\n",
    "    warstds~lpopns+ln_gdpen+inst3+parreg+geo34+proxregc+gdpgrowth+anoc\n",
    "       +partfree+nat_war+lmtnest+decade1+pol4sq+nwstate+regd4_alt+etdo4590+milper\n",
    "       +geo1+tnatwar+presi,\n",
    "    metric=\"ROC\", \n",
    "    method=\"regLogistic\",\n",
    "    tuneGrid=expand.grid(loss='L1', epsilon=c(0.001, 0.01, 0.1), cost=c(0.5, 1.0, 2.0)),\n",
    "    trControl=tc, \n",
    "    data=data.full)\n",
    "l1_lr_F1 <- c(l1_lr_F1, compute_F1(l1_lr_cv, data.full))"
   ]
  },
  {
   "cell_type": "code",
   "execution_count": 461,
   "metadata": {},
   "outputs": [
    {
     "data": {
      "text/html": [
       "0.114004914004914"
      ],
      "text/latex": [
       "0.114004914004914"
      ],
      "text/markdown": [
       "0.114004914004914"
      ],
      "text/plain": [
       "[1] 0.1140049"
      ]
     },
     "metadata": {},
     "output_type": "display_data"
    }
   ],
   "source": [
    "compute_F1(rf_cv, data.full)"
   ]
  },
  {
   "cell_type": "code",
   "execution_count": 462,
   "metadata": {},
   "outputs": [
    {
     "data": {
      "text/html": [
       "0.0168067226890756"
      ],
      "text/latex": [
       "0.0168067226890756"
      ],
      "text/markdown": [
       "0.0168067226890756"
      ],
      "text/plain": [
       "[1] 0.01680672"
      ]
     },
     "metadata": {},
     "output_type": "display_data"
    }
   ],
   "source": [
    "compute_F1(lr_cv, data.full)"
   ]
  },
  {
   "cell_type": "code",
   "execution_count": 460,
   "metadata": {},
   "outputs": [
    {
     "data": {
      "text/html": [
       "<style>\n",
       ".list-inline {list-style: none; margin:0; padding: 0}\n",
       ".list-inline>li {display: inline-block}\n",
       ".list-inline>li:not(:last-child)::after {content: \"\\00b7\"; padding: 0 .5ex}\n",
       "</style>\n",
       "<ol class=list-inline><li>0.0186915887850467</li><li>0.0188679245283019</li><li>0.019047619047619</li><li>0</li><li>0.036697247706422</li><li>0.019047619047619</li><li>0.0185185185185185</li><li>0.0188679245283019</li><li>0.0185185185185185</li><li>0.0186915887850467</li><li>0.0168067226890756</li></ol>\n"
      ],
      "text/latex": [
       "\\begin{enumerate*}\n",
       "\\item 0.0186915887850467\n",
       "\\item 0.0188679245283019\n",
       "\\item 0.019047619047619\n",
       "\\item 0\n",
       "\\item 0.036697247706422\n",
       "\\item 0.019047619047619\n",
       "\\item 0.0185185185185185\n",
       "\\item 0.0188679245283019\n",
       "\\item 0.0185185185185185\n",
       "\\item 0.0186915887850467\n",
       "\\item 0.0168067226890756\n",
       "\\end{enumerate*}\n"
      ],
      "text/markdown": [
       "1. 0.0186915887850467\n",
       "2. 0.0188679245283019\n",
       "3. 0.019047619047619\n",
       "4. 0\n",
       "5. 0.036697247706422\n",
       "6. 0.019047619047619\n",
       "7. 0.0185185185185185\n",
       "8. 0.0188679245283019\n",
       "9. 0.0185185185185185\n",
       "10. 0.0186915887850467\n",
       "11. 0.0168067226890756\n",
       "\n",
       "\n"
      ],
      "text/plain": [
       " [1] 0.01869159 0.01886792 0.01904762 0.00000000 0.03669725 0.01904762\n",
       " [7] 0.01851852 0.01886792 0.01851852 0.01869159 0.01680672"
      ]
     },
     "metadata": {},
     "output_type": "display_data"
    }
   ],
   "source": [
    "l1_lr_F1"
   ]
  },
  {
   "cell_type": "code",
   "execution_count": null,
   "metadata": {},
   "outputs": [],
   "source": []
  }
 ],
 "metadata": {
  "kernelspec": {
   "display_name": "R",
   "language": "R",
   "name": "ir"
  },
  "language_info": {
   "codemirror_mode": "r",
   "file_extension": ".r",
   "mimetype": "text/x-r-source",
   "name": "R",
   "pygments_lexer": "r",
   "version": "3.6.0"
  }
 },
 "nbformat": 4,
 "nbformat_minor": 2
}
