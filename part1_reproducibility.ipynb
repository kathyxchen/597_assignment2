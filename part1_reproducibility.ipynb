{
 "cells": [
  {
   "cell_type": "markdown",
   "metadata": {},
   "source": [
    "Replicate the corrected version of Muchlinksi et al. (2016). Specifically you should make the separation plots (Fig 1), ROC curves (Fig 2), F1-scores (Fig 3), and Table 1 for the main models in the paper."
   ]
  },
  {
   "cell_type": "code",
   "execution_count": 1,
   "metadata": {},
   "outputs": [
    {
     "name": "stderr",
     "output_type": "stream",
     "text": [
      "randomForest 4.6-14\n",
      "\n",
      "Type rfNews() to see new features/changes/bug fixes.\n",
      "\n",
      "Loading required package: lattice\n",
      "\n",
      "Loading required package: ggplot2\n",
      "\n",
      "\n",
      "Attaching package: ‘ggplot2’\n",
      "\n",
      "\n",
      "The following object is masked from ‘package:randomForest’:\n",
      "\n",
      "    margin\n",
      "\n",
      "\n",
      "Type 'citation(\"pROC\")' for a citation.\n",
      "\n",
      "\n",
      "Attaching package: ‘pROC’\n",
      "\n",
      "\n",
      "The following objects are masked from ‘package:stats’:\n",
      "\n",
      "    cov, smooth, var\n",
      "\n",
      "\n",
      "Loading required package: foreach\n",
      "\n",
      "Loading required package: iterators\n",
      "\n",
      "Loading required package: parallel\n",
      "\n"
     ]
    }
   ],
   "source": [
    "library(randomForest)\n",
    "library(caret)\n",
    "library(ROCR)\n",
    "library(pROC)\n",
    "library(stepPlr)\n",
    "library(doMC)\n",
    "library(xtable)"
   ]
  },
  {
   "cell_type": "markdown",
   "metadata": {},
   "source": [
    "## Load data"
   ]
  },
  {
   "cell_type": "code",
   "execution_count": 2,
   "metadata": {},
   "outputs": [],
   "source": [
    "pred_data <- read.csv(file=\"./data/SambanisImp.csv\")\n",
    "causal_mech_data <- read.csv(file=\"./data/Amelia.Imp3.csv\")"
   ]
  },
  {
   "cell_type": "code",
   "execution_count": 3,
   "metadata": {},
   "outputs": [],
   "source": [
    "# Using only the 88 variables specified in Sambanis (2006) Appendix\n",
    "pred_data.full <- pred_data[,\n",
    "    c(\"warstds\", \"ager\", \"agexp\", \"anoc\", \"army85\", \"autch98\", \"auto4\",\n",
    "      \"autonomy\", \"avgnabo\", \"centpol3\", \"coldwar\", \"decade1\", \"decade2\",\n",
    "      \"decade3\", \"decade4\", \"dem\", \"dem4\", \"demch98\", \"dlang\", \"drel\",\n",
    "      \"durable\", \"ef\", \"ef2\", \"ehet\", \"elfo\", \"elfo2\", \"etdo4590\",\n",
    "      \"expgdp\", \"exrec\", \"fedpol3\", \"fuelexp\", \"gdpgrowth\", \"geo1\", \"geo2\",\n",
    "      \"geo34\", \"geo57\", \"geo69\", \"geo8\", \"illiteracy\", \"incumb\", \"infant\",\n",
    "      \"inst\", \"inst3\", \"life\", \"lmtnest\", \"ln_gdpen\", \"lpopns\", \"major\", \"manuexp\", \"milper\",\n",
    "      \"mirps0\", \"mirps1\", \"mirps2\", \"mirps3\", \"nat_war\", \"ncontig\",\n",
    "      \"nmgdp\", \"nmdp4_alt\", \"numlang\", \"nwstate\", \"oil\", \"p4mchg\",\n",
    "      \"parcomp\", \"parreg\", \"part\", \"partfree\", \"plural\", \"plurrel\",\n",
    "      \"pol4\", \"pol4m\", \"pol4sq\", \"polch98\", \"polcomp\", \"popdense\",\n",
    "      \"presi\", \"pri\", \"proxregc\", \"ptime\", \"reg\", \"regd4_alt\", \"relfrac\", \"seceduc\",\n",
    "      \"second\", \"semipol3\", \"sip2\", \"sxpnew\", \"sxpsq\", \"tnatwar\", \"trade\",\n",
    "      \"warhist\", \"xconst\")]"
   ]
  },
  {
   "cell_type": "code",
   "execution_count": 4,
   "metadata": {},
   "outputs": [],
   "source": [
    "# Convert DV into Factor with names for Caret Library\n",
    "pred_data.full$warstds <- factor(\n",
    "    pred_data.full$warstds,\n",
    "    levels=c(0,1),\n",
    "    labels=c(\"peace\", \"war\"))"
   ]
  },
  {
   "cell_type": "markdown",
   "metadata": {},
   "source": [
    "## Train models"
   ]
  },
  {
   "cell_type": "code",
   "execution_count": 5,
   "metadata": {},
   "outputs": [],
   "source": [
    "# distribute workload over multiple cores for faster computation\n",
    "registerDoMC(cores=7)\n",
    "set.seed(666)"
   ]
  },
  {
   "cell_type": "code",
   "execution_count": 6,
   "metadata": {},
   "outputs": [],
   "source": [
    "# cross-validation function for the Caret Library\n",
    "tc <- trainControl(method=\"cv\",\n",
    "    number=10,\n",
    "    summaryFunction=twoClassSummary,\n",
    "    classProb=T,\n",
    "    savePredictions=T)"
   ]
  },
  {
   "cell_type": "markdown",
   "metadata": {},
   "source": [
    "### Fearon and Laitin Model (2003)"
   ]
  },
  {
   "cell_type": "code",
   "execution_count": 7,
   "metadata": {},
   "outputs": [],
   "source": [
    "model.fl.1 <- train(\n",
    "    as.factor(warstds)~warhist+ln_gdpen+lpopns+lmtnest+ncontig+oil+nwstate\n",
    "                      +inst3+pol4+ef+relfrac, #FL 2003 model spec\n",
    "    metric=\"ROC\", method=\"glm\", family=\"binomial\",\n",
    "    trControl=tc, data=pred_data.full)"
   ]
  },
  {
   "cell_type": "code",
   "execution_count": 8,
   "metadata": {},
   "outputs": [
    {
     "data": {
      "text/plain": [
       "\n",
       "Call:\n",
       "NULL\n",
       "\n",
       "Deviance Residuals: \n",
       "    Min       1Q   Median       3Q      Max  \n",
       "-1.0635  -0.1859  -0.1325  -0.0994   3.2962  \n",
       "\n",
       "Coefficients:\n",
       "            Estimate Std. Error z value Pr(>|z|)    \n",
       "(Intercept) -8.46582    1.11539  -7.590 3.20e-14 ***\n",
       "warhist      0.02247    0.25379   0.089  0.92946    \n",
       "ln_gdpen    -0.35196    0.11791  -2.985  0.00284 ** \n",
       "lpopns       0.18788    0.06815   2.757  0.00584 ** \n",
       "lmtnest      0.18706    0.08049   2.324  0.02013 *  \n",
       "ncontig      0.26477    0.28232   0.938  0.34831    \n",
       "oil          0.33689    0.30155   1.117  0.26391    \n",
       "nwstate      1.86032    0.32037   5.807 6.37e-09 ***\n",
       "inst3        1.36212    0.20709   6.577 4.79e-11 ***\n",
       "pol4        -0.02435    0.01781  -1.367  0.17170    \n",
       "ef           0.44421    0.42340   1.049  0.29411    \n",
       "relfrac      0.59413    0.50782   1.170  0.24202    \n",
       "---\n",
       "Signif. codes:  0 ‘***’ 0.001 ‘**’ 0.01 ‘*’ 0.05 ‘.’ 0.1 ‘ ’ 1\n",
       "\n",
       "(Dispersion parameter for binomial family taken to be 1)\n",
       "\n",
       "    Null deviance: 1185.9  on 7139  degrees of freedom\n",
       "Residual deviance: 1057.2  on 7128  degrees of freedom\n",
       "AIC: 1081.2\n",
       "\n",
       "Number of Fisher Scoring iterations: 7\n"
      ]
     },
     "metadata": {},
     "output_type": "display_data"
    }
   ],
   "source": [
    "summary(model.fl.1)"
   ]
  },
  {
   "cell_type": "markdown",
   "metadata": {},
   "source": [
    "### Fearon and Laitin Model (2003) penalized logistic regression"
   ]
  },
  {
   "cell_type": "code",
   "execution_count": 9,
   "metadata": {},
   "outputs": [],
   "source": [
    "model.fl.2 <- train(\n",
    "    as.factor(warstds)~warhist+ln_gdpen+lpopns+lmtnest+ncontig+oil+nwstate\n",
    "                      +inst3+pol4+ef+relfrac, #FL 2003 model spec\n",
    "    metric=\"ROC\", method=\"plr\",\n",
    "    trControl=tc, data=pred_data.full)"
   ]
  },
  {
   "cell_type": "code",
   "execution_count": 10,
   "metadata": {},
   "outputs": [
    {
     "name": "stdout",
     "output_type": "stream",
     "text": [
      "\n",
      "Call:\n",
      "stepPlr::plr(x = x, y = y, weights = if (!is.null(wts)) wts else rep(1, \n",
      "    length(y)), lambda = param$lambda, cp = as.character(param$cp))\n",
      "\n",
      "Coefficients:\n",
      "          Estimate Std.Error z value Pr(>|z|)\n",
      "Intercept  8.42662   1.10833   7.603    0.000\n",
      "warhist   -0.01827   0.25031  -0.073    0.942\n",
      "ln_gdpen   0.35579   0.11704   3.040    0.002\n",
      "lpopns    -0.18719   0.06783  -2.760    0.006\n",
      "lmtnest   -0.18629   0.08026  -2.321    0.020\n",
      "ncontig   -0.26372   0.27765  -0.950    0.342\n",
      "oil       -0.33176   0.29554  -1.123    0.261\n",
      "nwstate   -1.82097   0.31626  -5.758    0.000\n",
      "inst3     -1.34669   0.20509  -6.566    0.000\n",
      "pol4       0.02400   0.01774   1.353    0.176\n",
      "ef        -0.43870   0.40566  -1.081    0.280\n",
      "relfrac   -0.57091   0.48055  -1.188    0.235\n",
      "\n",
      "    Null deviance: 1185.92 on 7139 degrees of freedom\n",
      "Residual deviance: 1057.21 on 7128.16 degrees of freedom\n",
      "            Score: deviance + 8.9 * df = 1162.24 \n"
     ]
    }
   ],
   "source": [
    "summary(model.fl.2)"
   ]
  },
  {
   "cell_type": "markdown",
   "metadata": {},
   "source": [
    "### Collier and Hoeffler Model (2004) \n"
   ]
  },
  {
   "cell_type": "code",
   "execution_count": 11,
   "metadata": {},
   "outputs": [
    {
     "name": "stderr",
     "output_type": "stream",
     "text": [
      "Warning message:\n",
      "“glm.fit: fitted probabilities numerically 0 or 1 occurred”\n"
     ]
    }
   ],
   "source": [
    "model.ch.1 <- train(\n",
    "    as.factor(warstds)~sxpnew+sxpsq+ln_gdpen+gdpgrowth+warhist+lmtnest+ef+popdense\n",
    "                      +lpopns+coldwar+seceduc+ptime,\n",
    "    metric=\"ROC\", method=\"glm\", family=\"binomial\",\n",
    "    trControl=tc, data=pred_data.full)"
   ]
  },
  {
   "cell_type": "code",
   "execution_count": 12,
   "metadata": {},
   "outputs": [
    {
     "data": {
      "text/plain": [
       "\n",
       "Call:\n",
       "NULL\n",
       "\n",
       "Deviance Residuals: \n",
       "    Min       1Q   Median       3Q      Max  \n",
       "-1.1130  -0.1837  -0.1161  -0.0777   3.5875  \n",
       "\n",
       "Coefficients:\n",
       "              Estimate Std. Error z value Pr(>|z|)    \n",
       "(Intercept) -6.945e+00  1.251e+00  -5.550 2.86e-08 ***\n",
       "sxpnew       1.768e+01  4.288e+00   4.123 3.74e-05 ***\n",
       "sxpsq       -7.685e+01  1.125e+01  -6.831 8.42e-12 ***\n",
       "ln_gdpen    -4.402e-01  1.418e-01  -3.104  0.00191 ** \n",
       "gdpgrowth   -6.783e+00  1.228e+00  -5.525 3.29e-08 ***\n",
       "warhist     -5.266e-01  2.612e-01  -2.016  0.04378 *  \n",
       "lmtnest      2.332e-01  8.192e-02   2.846  0.00443 ** \n",
       "ef          -1.118e-02  4.446e-01  -0.025  0.97993    \n",
       "popdense    -1.463e-04  9.093e-04  -0.161  0.87217    \n",
       "lpopns       2.265e-01  6.922e-02   3.272  0.00107 ** \n",
       "coldwar     -1.081e-01  2.678e-01  -0.404  0.68642    \n",
       "seceduc     -5.562e-03  5.650e-03  -0.984  0.32490    \n",
       "ptime       -2.279e-03  7.607e-04  -2.996  0.00273 ** \n",
       "---\n",
       "Signif. codes:  0 ‘***’ 0.001 ‘**’ 0.01 ‘*’ 0.05 ‘.’ 0.1 ‘ ’ 1\n",
       "\n",
       "(Dispersion parameter for binomial family taken to be 1)\n",
       "\n",
       "    Null deviance: 1185.9  on 7139  degrees of freedom\n",
       "Residual deviance: 1006.2  on 7127  degrees of freedom\n",
       "AIC: 1032.2\n",
       "\n",
       "Number of Fisher Scoring iterations: 9\n"
      ]
     },
     "metadata": {},
     "output_type": "display_data"
    }
   ],
   "source": [
    "summary(model.ch.1)"
   ]
  },
  {
   "cell_type": "markdown",
   "metadata": {},
   "source": [
    "### Collier and Hoeffler (2004) penalized logistic regression"
   ]
  },
  {
   "cell_type": "code",
   "execution_count": 13,
   "metadata": {},
   "outputs": [
    {
     "name": "stdout",
     "output_type": "stream",
     "text": [
      "\n",
      "Convergence warning in plr: 2 \n"
     ]
    }
   ],
   "source": [
    "model.ch.2 <- train(\n",
    "    as.factor(warstds)~sxpnew+sxpsq+ln_gdpen+gdpgrowth+warhist+lmtnest+ef+popdense\n",
    "                      +lpopns+coldwar+seceduc+ptime,\n",
    "    metric=\"ROC\", method=\"plr\",\n",
    "    trControl=tc, data=pred_data.full)"
   ]
  },
  {
   "cell_type": "code",
   "execution_count": 14,
   "metadata": {},
   "outputs": [
    {
     "name": "stdout",
     "output_type": "stream",
     "text": [
      "\n",
      "Call:\n",
      "stepPlr::plr(x = x, y = y, weights = if (!is.null(wts)) wts else rep(1, \n",
      "    length(y)), lambda = param$lambda, cp = as.character(param$cp))\n",
      "\n",
      "Coefficients:\n",
      "          Estimate Std.Error z value Pr(>|z|)\n",
      "Intercept  5.69042   1.19736   4.752    0.000\n",
      "sxpnew     6.67340   4.99964   1.335    0.182\n",
      "sxpsq      4.92896  11.66979   0.422    0.673\n",
      "ln_gdpen   0.39857   0.12910   3.087    0.002\n",
      "gdpgrowth  6.77561   1.21447   5.579    0.000\n",
      "warhist    0.18392   0.26007   0.707    0.480\n",
      "lmtnest   -0.17193   0.07845  -2.192    0.028\n",
      "ef        -0.31249   0.43698  -0.715    0.475\n",
      "popdense   0.00108   0.00116   0.931    0.352\n",
      "lpopns    -0.18365   0.06734  -2.727    0.006\n",
      "coldwar   -0.03555   0.26632  -0.133    0.894\n",
      "seceduc    0.00822   0.00557   1.476    0.140\n",
      "ptime      0.00118   0.00073   1.616    0.106\n",
      "\n",
      "    Null deviance: 1185.92 on 7139 degrees of freedom\n",
      "Residual deviance: 1048.64 on 7127 degrees of freedom\n",
      "            Score: deviance + 8.9 * df = 1163.99 \n"
     ]
    }
   ],
   "source": [
    "summary(model.ch.2)"
   ]
  },
  {
   "cell_type": "markdown",
   "metadata": {},
   "source": [
    "### Hegre and Sambanis (2006) Model "
   ]
  },
  {
   "cell_type": "code",
   "execution_count": 15,
   "metadata": {},
   "outputs": [],
   "source": [
    "model.hs.1 <- train(\n",
    "    warstds~lpopns+ln_gdpen+inst3+parreg+geo34+proxregc+gdpgrowth+anoc\n",
    "           +partfree+nat_war+lmtnest+decade1+pol4sq+nwstate+regd4_alt+etdo4590+milper\n",
    "           +geo1+tnatwar+presi,\n",
    "    metric=\"ROC\", method=\"glm\", family=\"binomial\",\n",
    "    trControl=tc, data=pred_data.full)"
   ]
  },
  {
   "cell_type": "code",
   "execution_count": 16,
   "metadata": {},
   "outputs": [
    {
     "data": {
      "text/plain": [
       "\n",
       "Call:\n",
       "NULL\n",
       "\n",
       "Deviance Residuals: \n",
       "    Min       1Q   Median       3Q      Max  \n",
       "-1.3271  -0.1876  -0.1212  -0.0719   3.7643  \n",
       "\n",
       "Coefficients:\n",
       "              Estimate Std. Error z value Pr(>|z|)    \n",
       "(Intercept) -7.882e+00  1.336e+00  -5.901 3.62e-09 ***\n",
       "lpopns       2.314e-01  7.381e-02   3.135  0.00172 ** \n",
       "ln_gdpen    -2.978e-01  1.318e-01  -2.259  0.02386 *  \n",
       "inst3        1.410e+00  2.476e-01   5.694 1.24e-08 ***\n",
       "parreg      -2.933e-01  1.364e-01  -2.151  0.03151 *  \n",
       "geo34       -1.062e-01  3.163e-01  -0.336  0.73709    \n",
       "proxregc    -9.256e-01  3.118e-01  -2.968  0.00300 ** \n",
       "gdpgrowth   -6.224e+00  1.209e+00  -5.148 2.63e-07 ***\n",
       "anoc         4.359e-01  3.037e-01   1.435  0.15119    \n",
       "partfree     9.320e-02  2.734e-01   0.341  0.73315    \n",
       "nat_war      1.000e+00  3.119e-01   3.206  0.00134 ** \n",
       "lmtnest      1.652e-01  7.996e-02   2.066  0.03883 *  \n",
       "decade1      1.870e-01  2.563e-01   0.729  0.46574    \n",
       "pol4sq       2.510e-03  5.606e-03   0.448  0.65428    \n",
       "nwstate      1.872e+00  3.526e-01   5.311 1.09e-07 ***\n",
       "regd4_alt   -5.943e-02  2.883e-02  -2.061  0.03928 *  \n",
       "etdo4590     3.242e-02  2.283e-01   0.142  0.88704    \n",
       "milper      -6.747e-05  2.816e-04  -0.240  0.81066    \n",
       "geo1        -1.077e+00  1.177e+00  -0.915  0.36012    \n",
       "tnatwar     -3.673e-01  1.754e-01  -2.094  0.03626 *  \n",
       "presi       -1.361e+00  6.164e-01  -2.207  0.02729 *  \n",
       "---\n",
       "Signif. codes:  0 ‘***’ 0.001 ‘**’ 0.01 ‘*’ 0.05 ‘.’ 0.1 ‘ ’ 1\n",
       "\n",
       "(Dispersion parameter for binomial family taken to be 1)\n",
       "\n",
       "    Null deviance: 1185.92  on 7139  degrees of freedom\n",
       "Residual deviance:  993.74  on 7119  degrees of freedom\n",
       "AIC: 1035.7\n",
       "\n",
       "Number of Fisher Scoring iterations: 9\n"
      ]
     },
     "metadata": {},
     "output_type": "display_data"
    }
   ],
   "source": [
    "summary(model.hs.1)"
   ]
  },
  {
   "cell_type": "markdown",
   "metadata": {},
   "source": [
    "### Hegre and Sambanis (2006) penalized logistic regression"
   ]
  },
  {
   "cell_type": "code",
   "execution_count": 17,
   "metadata": {},
   "outputs": [
    {
     "name": "stdout",
     "output_type": "stream",
     "text": [
      "\n",
      "Convergence warning in plr: 2 \n"
     ]
    }
   ],
   "source": [
    "model.hs.2 <- train(\n",
    "    warstds~lpopns+ln_gdpen+inst3+parreg+geo34+proxregc+gdpgrowth+anoc\n",
    "           +partfree+nat_war+lmtnest+decade1+pol4sq+nwstate+regd4_alt+etdo4590+milper\n",
    "           +geo1+tnatwar+presi,\n",
    "    metric=\"ROC\", method=\"plr\",\n",
    "    trControl=tc, data=pred_data.full)"
   ]
  },
  {
   "cell_type": "code",
   "execution_count": 18,
   "metadata": {},
   "outputs": [
    {
     "name": "stdout",
     "output_type": "stream",
     "text": [
      "\n",
      "Call:\n",
      "stepPlr::plr(x = x, y = y, weights = if (!is.null(wts)) wts else rep(1, \n",
      "    length(y)), lambda = param$lambda, cp = as.character(param$cp))\n",
      "\n",
      "Coefficients:\n",
      "          Estimate Std.Error z value Pr(>|z|)\n",
      "Intercept  6.68751   1.31047   5.103    0.000\n",
      "lpopns    -0.17152   0.07319  -2.343    0.019\n",
      "ln_gdpen   0.30106   0.13110   2.296    0.022\n",
      "inst3     -1.41477   0.24655  -5.738    0.000\n",
      "parreg     0.33586   0.13389   2.508    0.012\n",
      "geo34      0.11543   0.31329   0.368    0.713\n",
      "proxregc   0.92051   0.30956   2.974    0.003\n",
      "gdpgrowth  5.30115   1.25502   4.224    0.000\n",
      "anoc      -0.37100   0.30178  -1.229    0.219\n",
      "partfree  -0.06924   0.27214  -0.254    0.799\n",
      "nat_war   -1.00776   0.31103  -3.240    0.001\n",
      "lmtnest   -0.16578   0.07927  -2.091    0.037\n",
      "decade1   -0.16346   0.25583  -0.639    0.523\n",
      "pol4sq    -0.00173   0.00558  -0.310    0.757\n",
      "nwstate   -1.85961   0.34976  -5.317    0.000\n",
      "regd4_alt  0.05579   0.02847   1.960    0.050\n",
      "etdo4590  -0.00063   0.22750  -0.003    0.998\n",
      "milper     0.00000   0.00027   0.000    1.000\n",
      "geo1       1.06754   1.17000   0.912    0.362\n",
      "tnatwar    0.34857   0.17513   1.990    0.047\n",
      "presi      1.42094   0.61936   2.294    0.022\n",
      "\n",
      "    Null deviance: 1185.92 on 7139 degrees of freedom\n",
      "Residual deviance: 995.01 on 7119 degrees of freedom\n",
      "            Score: deviance + 8.9 * df = 1181.35 \n"
     ]
    }
   ],
   "source": [
    "summary(model.hs.2)"
   ]
  },
  {
   "cell_type": "markdown",
   "metadata": {},
   "source": [
    "### Random Forest"
   ]
  },
  {
   "cell_type": "code",
   "execution_count": 19,
   "metadata": {},
   "outputs": [],
   "source": [
    "model.rf <- train(\n",
    "    as.factor(warstds)~.,\n",
    "    metric=\"ROC\", method=\"rf\",\n",
    "    sampsize=c(30,90),\n",
    "    importance=T,\n",
    "    proximity=F, \n",
    "    ntree=1000,\n",
    "    trControl=tc, data=pred_data.full)"
   ]
  },
  {
   "cell_type": "code",
   "execution_count": 20,
   "metadata": {},
   "outputs": [
    {
     "data": {
      "text/plain": [
       "                Length Class      Mode     \n",
       "call                8  -none-     call     \n",
       "type                1  -none-     character\n",
       "predicted        7140  factor     numeric  \n",
       "err.rate         3000  -none-     numeric  \n",
       "confusion           6  -none-     numeric  \n",
       "votes           14280  matrix     numeric  \n",
       "oob.times        7140  -none-     numeric  \n",
       "classes             2  -none-     character\n",
       "importance        360  -none-     numeric  \n",
       "importanceSD      270  -none-     numeric  \n",
       "localImportance     0  -none-     NULL     \n",
       "proximity           0  -none-     NULL     \n",
       "ntree               1  -none-     numeric  \n",
       "mtry                1  -none-     numeric  \n",
       "forest             14  -none-     list     \n",
       "y                7140  factor     numeric  \n",
       "test                0  -none-     NULL     \n",
       "inbag               0  -none-     NULL     \n",
       "xNames             90  -none-     character\n",
       "problemType         1  -none-     character\n",
       "tuneValue           1  data.frame list     \n",
       "obsLevels           2  -none-     character\n",
       "param               4  -none-     list     "
      ]
     },
     "metadata": {},
     "output_type": "display_data"
    }
   ],
   "source": [
    "summary(model.rf)"
   ]
  },
  {
   "cell_type": "markdown",
   "metadata": {},
   "source": [
    "## Figure 2 (ROC Curves)"
   ]
  },
  {
   "cell_type": "code",
   "execution_count": 21,
   "metadata": {},
   "outputs": [],
   "source": [
    "pred.FL.war<-model.fl.1$finalModel$fitted.values\n",
    "pred.CH.war<-model.ch.1$finalModel$fitted.values\n",
    "pred.HR.war<-model.hs.1$finalModel$fitted.values"
   ]
  },
  {
   "cell_type": "code",
   "execution_count": 22,
   "metadata": {},
   "outputs": [],
   "source": [
    "RF.1.pred<-predict(model.rf$finalModel, type=\"prob\")\n",
    "RF.1.pred<-as.data.frame(RF.1.pred)"
   ]
  },
  {
   "cell_type": "code",
   "execution_count": 23,
   "metadata": {},
   "outputs": [],
   "source": [
    "pred.FL <- prediction(pred.FL.war, pred_data.full$warstds)\n",
    "perf.FL <- performance(pred.FL,\"tpr\",\"fpr\")\n",
    "pred.CH <- prediction(pred.CH.war, pred_data.full$warstds)\n",
    "perf.CH <- performance(pred.CH,\"tpr\",\"fpr\")\n",
    "pred.HS<-prediction(pred.HR.war, pred_data.full$warstds)\n",
    "perf.HS<-performance(pred.HS, \"tpr\", \"fpr\")\n",
    "pred.RF.1<-prediction(RF.1.pred$war, pred_data.full$warstds)\n",
    "perf.RF.1<-performance(pred.RF.1, \"tpr\", \"fpr\")"
   ]
  },
  {
   "cell_type": "code",
   "execution_count": 24,
   "metadata": {},
   "outputs": [
    {
     "data": {
      "image/png": "[encoded data removed]",
      "text/plain": [
       "Plot with title “Logits and Random Forests (Corrected)”"
      ]
     },
     "metadata": {
      "image/png": {
       "height": 420,
       "width": 420
      }
     },
     "output_type": "display_data"
    }
   ],
   "source": [
    "plot(perf.FL, main=\"Logits and Random Forests (Corrected)\")\n",
    "plot(perf.CH, add=T, lty=2)\n",
    "plot(perf.HS, add=T, lty=3)\n",
    "plot(perf.RF.1, add=T, lty=4)\n",
    "legend(0.32, 0.25, \n",
    "       c(\"Fearon and Laitin (2003) 0.77\", \"Collier and Hoeffler (2004) 0.82\",\n",
    "         \"Hegre and Sambanis (2006) 0.80\", \"Random Forest 0.91\" ),\n",
    "       lty=c(1,2,3,4), bty=\"n\", cex = .75)"
   ]
  },
  {
   "cell_type": "code",
   "execution_count": 25,
   "metadata": {},
   "outputs": [],
   "source": [
    "FL.2.pred<-1-model.fl.2$finalModel$fitted.values\n",
    "CH.2.pred<-1-model.ch.2$finalModel$fitted.values\n",
    "HS.2.pred<-1-model.hs.2$finalModel$fitted.values"
   ]
  },
  {
   "cell_type": "code",
   "execution_count": 26,
   "metadata": {},
   "outputs": [],
   "source": [
    "pred.FL.2 <- prediction(FL.2.pred, pred_data.full$warstds)\n",
    "perf.FL.2 <- performance(pred.FL.2,\"tpr\",\"fpr\")\n",
    "pred.CH.2<- prediction(CH.2.pred, pred_data.full$warstds)\n",
    "perf.CH.2 <- performance(pred.CH.2,\"tpr\",\"fpr\")\n",
    "pred.HS.2<- prediction(HS.2.pred, pred_data.full$warstds)\n",
    "perf.HS.2 <- performance(pred.HS.2,\"tpr\",\"fpr\")"
   ]
  },
  {
   "cell_type": "code",
   "execution_count": 27,
   "metadata": {},
   "outputs": [
    {
     "data": {
      "image/png": "[encoded data removed]",
      "text/plain": [
       "Plot with title “Penalized Logits and Random Forests (Corrected)”"
      ]
     },
     "metadata": {
      "image/png": {
       "height": 420,
       "width": 420
      }
     },
     "output_type": "display_data"
    }
   ],
   "source": [
    "plot(perf.FL.2, main=\"Penalized Logits and Random Forests (Corrected)\")\n",
    "plot(perf.CH.2, add=T, lty=2)\n",
    "plot(perf.HS.2, add=T, lty=3)\n",
    "plot(perf.RF.1, add=T, lty=4)\n",
    "legend(0.32, 0.25, \n",
    "       c(\"Fearon and Laitin (2003) 0.77\",\n",
    "         \"Collier and Hoeffler (2004) 0.77\",\n",
    "         \"Hegre and Sambanis (2006) 0.80\",\n",
    "         \"Random Forest 0.91\" ), \n",
    "       lty=c(1,2,3,4), bty=\"n\", cex = .75)"
   ]
  },
  {
   "cell_type": "code",
   "execution_count": 28,
   "metadata": {},
   "outputs": [
    {
     "data": {
      "image/png": "[encoded data removed]",
      "text/plain": [
       "Plot with title “Penalized Logits and Random Forests (Corrected)”"
      ]
     },
     "metadata": {
      "image/png": {
       "height": 420,
       "width": 420
      }
     },
     "output_type": "display_data"
    }
   ],
   "source": [
    "### Combine both ROC plots\n",
    "par(mfrow=c(1,2))\n",
    "plot(perf.FL, main=\"Logits and Random Forests (Corrected)\")\n",
    "plot(perf.CH, add=T, lty=2)\n",
    "plot(perf.HS, add=T, lty=3)\n",
    "plot(perf.RF.1, add=T, lty=4)\n",
    "legend(0.32, 0.25, \n",
    "       c(\"Fearon and Laitin (2003) 0.77\", \"Collier and Hoeffler (2004) 0.82\",\n",
    "         \"Hegre and Sambanis (2006) 0.80\", \"Random Forest 0.91\" ),\n",
    "       lty=c(1,2,3,4), bty=\"n\", cex = .75)\n",
    "plot(perf.FL.2, main=\"Penalized Logits and Random Forests (Corrected)\")\n",
    "plot(perf.CH.2, add=T, lty=2)\n",
    "plot(perf.HS.2, add=T, lty=3)\n",
    "plot(perf.RF.1, add=T, lty=4)\n",
    "legend(0.32, 0.25,\n",
    "       c(\"Fearon and Laitin (2003) 0.77\", \"Collier and Hoeffler (2004) 0.77\",\n",
    "         \"Hegre and Sambanis (2006) 0.80\", \"Random Forest 0.91\" ),\n",
    "       lty=c(1,2,3,4), bty=\"n\", cex = .75)"
   ]
  },
  {
   "cell_type": "markdown",
   "metadata": {},
   "source": [
    "## Figure 1 (separation plots)"
   ]
  },
  {
   "cell_type": "code",
   "execution_count": 29,
   "metadata": {},
   "outputs": [
    {
     "name": "stderr",
     "output_type": "stream",
     "text": [
      "Loading required package: RColorBrewer\n",
      "\n",
      "Loading required package: Hmisc\n",
      "\n",
      "Loading required package: survival\n",
      "\n",
      "\n",
      "Attaching package: ‘survival’\n",
      "\n",
      "\n",
      "The following object is masked from ‘package:caret’:\n",
      "\n",
      "    cluster\n",
      "\n",
      "\n",
      "Loading required package: Formula\n",
      "\n",
      "\n",
      "Attaching package: ‘Hmisc’\n",
      "\n",
      "\n",
      "The following objects are masked from ‘package:xtable’:\n",
      "\n",
      "    label, label<-\n",
      "\n",
      "\n",
      "The following objects are masked from ‘package:base’:\n",
      "\n",
      "    format.pval, units\n",
      "\n",
      "\n",
      "Loading required package: MASS\n",
      "\n",
      "Loading required package: foreign\n",
      "\n"
     ]
    }
   ],
   "source": [
    "library(separationplot)"
   ]
  },
  {
   "cell_type": "markdown",
   "metadata": {},
   "source": [
    "Transform DV back to 0,1 values for separation plots"
   ]
  },
  {
   "cell_type": "code",
   "execution_count": 30,
   "metadata": {},
   "outputs": [],
   "source": [
    "pred_data.full$warstds <- factor(\n",
    "    pred_data.full$warstds,\n",
    "    levels=c(\"peace\",\"war\"),\n",
    "    labels=c(0, 1))"
   ]
  },
  {
   "cell_type": "markdown",
   "metadata": {},
   "source": [
    "Transform actual observations into vector for separation plots"
   ]
  },
  {
   "cell_type": "code",
   "execution_count": 31,
   "metadata": {},
   "outputs": [],
   "source": [
    "Warstds <- as.vector(pred_data.full$warstds)"
   ]
  },
  {
   "cell_type": "code",
   "execution_count": 46,
   "metadata": {},
   "outputs": [
    {
     "data": {
      "image/png": "[encoded data removed]",
      "text/plain": [
       "Plot with title “Random Forests”"
      ]
     },
     "metadata": {
      "image/png": {
       "height": 420,
       "width": 420
      }
     },
     "output_type": "display_data"
    }
   ],
   "source": [
    "separationplot(\n",
    "    RF.1.pred$war,\n",
    "    Warstds,\n",
    "    type=\"line\",\n",
    "    line=T,\n",
    "    lwd2=1,\n",
    "    show.expected=T,\n",
    "    heading=\"Random Forests\", height=2.5, col0=\"white\", col1=\"black\", newplot=F)"
   ]
  },
  {
   "cell_type": "code",
   "execution_count": 47,
   "metadata": {},
   "outputs": [
    {
     "data": {
      "image/png": "[encoded data removed]",
      "text/plain": [
       "Plot with title “Fearon and Laitin (2003)”"
      ]
     },
     "metadata": {
      "image/png": {
       "height": 420,
       "width": 420
      }
     },
     "output_type": "display_data"
    }
   ],
   "source": [
    "separationplot(\n",
    "    pred.FL.war, Warstds, type=\"line\", line=T, lwd2=1, show.expected=T,\n",
    "    heading=\"Fearon and Laitin (2003)\", height=2.5, col0=\"white\", col1=\"black\", newplot=F)"
   ]
  },
  {
   "cell_type": "code",
   "execution_count": 48,
   "metadata": {},
   "outputs": [
    {
     "data": {
      "image/png": "[encoded data removed]",
      "text/plain": [
       "Plot with title “Collier and Hoeffler (2004)”"
      ]
     },
     "metadata": {
      "image/png": {
       "height": 420,
       "width": 420
      }
     },
     "output_type": "display_data"
    }
   ],
   "source": [
    "separationplot(\n",
    "    pred.CH.war, Warstds, type=\"line\", line=T, lwd2=1, show.expected=T,\n",
    "    heading=\"Collier and Hoeffler (2004)\", height=2.5, col0=\"white\", col1=\"black\", newplot=F)"
   ]
  },
  {
   "cell_type": "code",
   "execution_count": 49,
   "metadata": {},
   "outputs": [
    {
     "data": {
      "image/png": "[encoded data removed]",
      "text/plain": [
       "Plot with title “Hegre and Sambanis (2006)”"
      ]
     },
     "metadata": {
      "image/png": {
       "height": 420,
       "width": 420
      }
     },
     "output_type": "display_data"
    }
   ],
   "source": [
    "separationplot(\n",
    "    pred.HR.war, Warstds, type=\"line\", line=T, lwd2=1, show.expected=T,\n",
    "    heading=\"Hegre and Sambanis (2006)\", height=2.5, col0=\"white\", col1=\"black\", newplot=F)"
   ]
  },
  {
   "cell_type": "markdown",
   "metadata": {},
   "source": [
    "## Figure 3"
   ]
  },
  {
   "cell_type": "code",
   "execution_count": null,
   "metadata": {},
   "outputs": [],
   "source": []
  },
  {
   "cell_type": "markdown",
   "metadata": {},
   "source": [
    "## Table 1"
   ]
  },
  {
   "cell_type": "code",
   "execution_count": 52,
   "metadata": {},
   "outputs": [
    {
     "name": "stdout",
     "output_type": "stream",
     "text": [
      "ntree      OOB      1      2\n",
      " 1000:   0.02%  0.00%  1.48%\n",
      "ntree      OOB      1      2\n",
      " 1000:   0.02%  0.00%  1.48%\n",
      "ntree      OOB      1      2\n",
      " 1000:   0.04%  0.00%  2.22%\n",
      "ntree      OOB      1      2\n",
      " 1000:   0.06%  0.00%  3.70%\n",
      "ntree      OOB      1      2\n",
      " 1000:   0.01%  0.00%  0.74%\n"
     ]
    }
   ],
   "source": [
    "set.seed(425)\n",
    "data_imp <- read.csv(file=\"./data/data_full.csv\")\n",
    "rf.imp <- rfImpute(data_imp, as.factor(data_imp$warstds), iter=5, ntree=1000)"
   ]
  },
  {
   "cell_type": "code",
   "execution_count": 53,
   "metadata": {},
   "outputs": [],
   "source": [
    "mena <- subset(rf.imp, rf.imp$year > 2000)"
   ]
  },
  {
   "cell_type": "code",
   "execution_count": 55,
   "metadata": {},
   "outputs": [],
   "source": [
    "fl.pred<-predict(model.fl.1, newdata=mena, type=\"prob\")\n",
    "fl.pred<-as.data.frame(fl.pred)\n",
    "pred.FL.1<-prediction(fl.pred$war, mena$`as.factor(data_imp$warstds)`)\n",
    "perf.FL.1<-performance(pred.FL.1, \"auc\")\n",
    "\n",
    "ch.pred<-predict(model.ch.1, newdata=mena, type=\"prob\")\n",
    "ch.pred<-as.data.frame(ch.pred)\n",
    "pred.CH.1<-prediction(ch.pred$war, mena$`as.factor(data_imp$warstds)`)\n",
    "perf.CH.1<-performance(pred.CH.1, \"auc\")\n",
    "\n",
    "hs.pred<-predict(model.hs.1, newdata=mena, type=\"prob\")\n",
    "hs.pred<-as.data.frame(hs.pred)\n",
    "pred.HS.1<-prediction(hs.pred$war, mena$`as.factor(data_imp$warstds)`)\n",
    "perf.HS.1<-performance(pred.HS.1, \"auc\")\n",
    "\n",
    "rf.pred<-predict(model.rf, newdata=mena, type=\"prob\")\n",
    "rf.pred<-as.data.frame(rf.pred)\n",
    "pred.RF.1<-prediction(rf.pred$war, mena$`as.factor(data_imp$warstds)`)\n",
    "perf.RF.1<-performance(pred.RF.1, \"tpr\", \"fpr\")\n",
    "perf.RF.1<-performance(pred.RF.1, \"auc\")"
   ]
  },
  {
   "cell_type": "code",
   "execution_count": 56,
   "metadata": {},
   "outputs": [],
   "source": [
    "predictions<-cbind(mena$cowcode, mena$year, mena$warstds, fl.pred[,2], ch.pred[,2],\n",
    "hs.pred[,2], rf.pred[,2])"
   ]
  },
  {
   "cell_type": "code",
   "execution_count": 58,
   "metadata": {},
   "outputs": [
    {
     "data": {
      "text/html": [
       "<table>\n",
       "<caption>A xtable: 19 × 7</caption>\n",
       "<thead>\n",
       "\t<tr><th></th><th scope=col>COWcode</th><th scope=col>year</th><th scope=col>CW_Onset</th><th scope=col>Fearon and Latin (2003)</th><th scope=col>Collier and Hoeffler (2004)</th><th scope=col>Hegre and Sambanis (2006)</th><th scope=col>Random Forest</th></tr>\n",
       "\t<tr><th></th><th scope=col>&lt;dbl&gt;</th><th scope=col>&lt;dbl&gt;</th><th scope=col>&lt;dbl&gt;</th><th scope=col>&lt;dbl&gt;</th><th scope=col>&lt;dbl&gt;</th><th scope=col>&lt;dbl&gt;</th><th scope=col>&lt;dbl&gt;</th></tr>\n",
       "</thead>\n",
       "<tbody>\n",
       "\t<tr><th scope=row>127</th><td>438</td><td>2001</td><td>1</td><td>0.007643157</td><td>0.004191886</td><td>0.006491767</td><td>0.070</td></tr>\n",
       "\t<tr><th scope=row>351</th><td>516</td><td>2001</td><td>1</td><td>0.029228931</td><td>0.003032128</td><td>0.018701560</td><td>0.087</td></tr>\n",
       "\t<tr><th scope=row>365</th><td>517</td><td>2001</td><td>1</td><td>0.008109073</td><td>0.002871234</td><td>0.006613362</td><td>0.046</td></tr>\n",
       "\t<tr><th scope=row>435</th><td>540</td><td>2001</td><td>1</td><td>0.012828092</td><td>0.011095105</td><td>0.016913126</td><td>0.713</td></tr>\n",
       "\t<tr><th scope=row>883</th><td>700</td><td>2001</td><td>1</td><td>0.007259153</td><td>0.003565428</td><td>0.004751861</td><td>0.064</td></tr>\n",
       "\t<tr><th scope=row>296</th><td>500</td><td>2002</td><td>1</td><td>0.015394016</td><td>0.021599486</td><td>0.020239060</td><td>0.928</td></tr>\n",
       "\t<tr><th scope=row>157</th><td>450</td><td>2003</td><td>1</td><td>0.016241764</td><td>0.037933291</td><td>0.026775852</td><td>0.981</td></tr>\n",
       "\t<tr><th scope=row>298</th><td>500</td><td>2004</td><td>1</td><td>0.010231514</td><td>0.004850783</td><td>0.011289025</td><td>0.449</td></tr>\n",
       "\t<tr><th scope=row>704</th><td>645</td><td>2004</td><td>1</td><td>0.031794188</td><td>0.005469389</td><td>0.027515971</td><td>0.162</td></tr>\n",
       "\t<tr><th scope=row>887</th><td>700</td><td>2005</td><td>1</td><td>0.029315460</td><td>0.004919039</td><td>0.020365058</td><td>0.141</td></tr>\n",
       "\t<tr><th scope=row>258</th><td>483</td><td>2006</td><td>1</td><td>0.017430835</td><td>0.039079572</td><td>0.027176410</td><td>0.983</td></tr>\n",
       "\t<tr><th scope=row>385</th><td>520</td><td>2007</td><td>1</td><td>0.062207164</td><td>0.040358742</td><td>0.102998326</td><td>0.958</td></tr>\n",
       "\t<tr><th scope=row>373</th><td>517</td><td>2009</td><td>1</td><td>0.017953746</td><td>0.037015260</td><td>0.027627325</td><td>0.992</td></tr>\n",
       "\t<tr><th scope=row>655</th><td>620</td><td>2011</td><td>1</td><td>0.016593704</td><td>0.038925136</td><td>0.024078652</td><td>0.951</td></tr>\n",
       "\t<tr><th scope=row>740</th><td>652</td><td>2012</td><td>1</td><td>0.008730383</td><td>0.003414724</td><td>0.004249602</td><td>0.060</td></tr>\n",
       "\t<tr><th scope=row>223</th><td>475</td><td>2013</td><td>1</td><td>0.015381165</td><td>0.040062819</td><td>0.028699644</td><td>0.961</td></tr>\n",
       "\t<tr><th scope=row>293</th><td>490</td><td>2013</td><td>1</td><td>0.007904206</td><td>0.002584701</td><td>0.004446999</td><td>0.041</td></tr>\n",
       "\t<tr><th scope=row>713</th><td>645</td><td>2013</td><td>1</td><td>0.015205018</td><td>0.038878924</td><td>0.024541165</td><td>0.964</td></tr>\n",
       "\t<tr><th scope=row>392</th><td>520</td><td>2014</td><td>1</td><td>0.054338828</td><td>0.040375440</td><td>0.107169246</td><td>0.994</td></tr>\n",
       "</tbody>\n",
       "</table>\n"
      ],
      "text/latex": [
       "A xtable: 19 × 7\n",
       "\\begin{tabular}{r|lllllll}\n",
       "  & COWcode & year & CW\\_Onset & Fearon and Latin (2003) & Collier and Hoeffler (2004) & Hegre and Sambanis (2006) & Random Forest\\\\\n",
       "  & <dbl> & <dbl> & <dbl> & <dbl> & <dbl> & <dbl> & <dbl>\\\\\n",
       "\\hline\n",
       "\t127 & 438 & 2001 & 1 & 0.007643157 & 0.004191886 & 0.006491767 & 0.070\\\\\n",
       "\t351 & 516 & 2001 & 1 & 0.029228931 & 0.003032128 & 0.018701560 & 0.087\\\\\n",
       "\t365 & 517 & 2001 & 1 & 0.008109073 & 0.002871234 & 0.006613362 & 0.046\\\\\n",
       "\t435 & 540 & 2001 & 1 & 0.012828092 & 0.011095105 & 0.016913126 & 0.713\\\\\n",
       "\t883 & 700 & 2001 & 1 & 0.007259153 & 0.003565428 & 0.004751861 & 0.064\\\\\n",
       "\t296 & 500 & 2002 & 1 & 0.015394016 & 0.021599486 & 0.020239060 & 0.928\\\\\n",
       "\t157 & 450 & 2003 & 1 & 0.016241764 & 0.037933291 & 0.026775852 & 0.981\\\\\n",
       "\t298 & 500 & 2004 & 1 & 0.010231514 & 0.004850783 & 0.011289025 & 0.449\\\\\n",
       "\t704 & 645 & 2004 & 1 & 0.031794188 & 0.005469389 & 0.027515971 & 0.162\\\\\n",
       "\t887 & 700 & 2005 & 1 & 0.029315460 & 0.004919039 & 0.020365058 & 0.141\\\\\n",
       "\t258 & 483 & 2006 & 1 & 0.017430835 & 0.039079572 & 0.027176410 & 0.983\\\\\n",
       "\t385 & 520 & 2007 & 1 & 0.062207164 & 0.040358742 & 0.102998326 & 0.958\\\\\n",
       "\t373 & 517 & 2009 & 1 & 0.017953746 & 0.037015260 & 0.027627325 & 0.992\\\\\n",
       "\t655 & 620 & 2011 & 1 & 0.016593704 & 0.038925136 & 0.024078652 & 0.951\\\\\n",
       "\t740 & 652 & 2012 & 1 & 0.008730383 & 0.003414724 & 0.004249602 & 0.060\\\\\n",
       "\t223 & 475 & 2013 & 1 & 0.015381165 & 0.040062819 & 0.028699644 & 0.961\\\\\n",
       "\t293 & 490 & 2013 & 1 & 0.007904206 & 0.002584701 & 0.004446999 & 0.041\\\\\n",
       "\t713 & 645 & 2013 & 1 & 0.015205018 & 0.038878924 & 0.024541165 & 0.964\\\\\n",
       "\t392 & 520 & 2014 & 1 & 0.054338828 & 0.040375440 & 0.107169246 & 0.994\\\\\n",
       "\\end{tabular}\n"
      ],
      "text/markdown": [
       "\n",
       "A xtable: 19 × 7\n",
       "\n",
       "| <!--/--> | COWcode &lt;dbl&gt; | year &lt;dbl&gt; | CW_Onset &lt;dbl&gt; | Fearon and Latin (2003) &lt;dbl&gt; | Collier and Hoeffler (2004) &lt;dbl&gt; | Hegre and Sambanis (2006) &lt;dbl&gt; | Random Forest &lt;dbl&gt; |\n",
       "|---|---|---|---|---|---|---|---|\n",
       "| 127 | 438 | 2001 | 1 | 0.007643157 | 0.004191886 | 0.006491767 | 0.070 |\n",
       "| 351 | 516 | 2001 | 1 | 0.029228931 | 0.003032128 | 0.018701560 | 0.087 |\n",
       "| 365 | 517 | 2001 | 1 | 0.008109073 | 0.002871234 | 0.006613362 | 0.046 |\n",
       "| 435 | 540 | 2001 | 1 | 0.012828092 | 0.011095105 | 0.016913126 | 0.713 |\n",
       "| 883 | 700 | 2001 | 1 | 0.007259153 | 0.003565428 | 0.004751861 | 0.064 |\n",
       "| 296 | 500 | 2002 | 1 | 0.015394016 | 0.021599486 | 0.020239060 | 0.928 |\n",
       "| 157 | 450 | 2003 | 1 | 0.016241764 | 0.037933291 | 0.026775852 | 0.981 |\n",
       "| 298 | 500 | 2004 | 1 | 0.010231514 | 0.004850783 | 0.011289025 | 0.449 |\n",
       "| 704 | 645 | 2004 | 1 | 0.031794188 | 0.005469389 | 0.027515971 | 0.162 |\n",
       "| 887 | 700 | 2005 | 1 | 0.029315460 | 0.004919039 | 0.020365058 | 0.141 |\n",
       "| 258 | 483 | 2006 | 1 | 0.017430835 | 0.039079572 | 0.027176410 | 0.983 |\n",
       "| 385 | 520 | 2007 | 1 | 0.062207164 | 0.040358742 | 0.102998326 | 0.958 |\n",
       "| 373 | 517 | 2009 | 1 | 0.017953746 | 0.037015260 | 0.027627325 | 0.992 |\n",
       "| 655 | 620 | 2011 | 1 | 0.016593704 | 0.038925136 | 0.024078652 | 0.951 |\n",
       "| 740 | 652 | 2012 | 1 | 0.008730383 | 0.003414724 | 0.004249602 | 0.060 |\n",
       "| 223 | 475 | 2013 | 1 | 0.015381165 | 0.040062819 | 0.028699644 | 0.961 |\n",
       "| 293 | 490 | 2013 | 1 | 0.007904206 | 0.002584701 | 0.004446999 | 0.041 |\n",
       "| 713 | 645 | 2013 | 1 | 0.015205018 | 0.038878924 | 0.024541165 | 0.964 |\n",
       "| 392 | 520 | 2014 | 1 | 0.054338828 | 0.040375440 | 0.107169246 | 0.994 |\n",
       "\n"
      ],
      "text/plain": [
       "    COWcode year CW_Onset Fearon and Latin (2003) Collier and Hoeffler (2004)\n",
       "127 438     2001 1        0.007643157             0.004191886                \n",
       "351 516     2001 1        0.029228931             0.003032128                \n",
       "365 517     2001 1        0.008109073             0.002871234                \n",
       "435 540     2001 1        0.012828092             0.011095105                \n",
       "883 700     2001 1        0.007259153             0.003565428                \n",
       "296 500     2002 1        0.015394016             0.021599486                \n",
       "157 450     2003 1        0.016241764             0.037933291                \n",
       "298 500     2004 1        0.010231514             0.004850783                \n",
       "704 645     2004 1        0.031794188             0.005469389                \n",
       "887 700     2005 1        0.029315460             0.004919039                \n",
       "258 483     2006 1        0.017430835             0.039079572                \n",
       "385 520     2007 1        0.062207164             0.040358742                \n",
       "373 517     2009 1        0.017953746             0.037015260                \n",
       "655 620     2011 1        0.016593704             0.038925136                \n",
       "740 652     2012 1        0.008730383             0.003414724                \n",
       "223 475     2013 1        0.015381165             0.040062819                \n",
       "293 490     2013 1        0.007904206             0.002584701                \n",
       "713 645     2013 1        0.015205018             0.038878924                \n",
       "392 520     2014 1        0.054338828             0.040375440                \n",
       "    Hegre and Sambanis (2006) Random Forest\n",
       "127 0.006491767               0.070        \n",
       "351 0.018701560               0.087        \n",
       "365 0.006613362               0.046        \n",
       "435 0.016913126               0.713        \n",
       "883 0.004751861               0.064        \n",
       "296 0.020239060               0.928        \n",
       "157 0.026775852               0.981        \n",
       "298 0.011289025               0.449        \n",
       "704 0.027515971               0.162        \n",
       "887 0.020365058               0.141        \n",
       "258 0.027176410               0.983        \n",
       "385 0.102998326               0.958        \n",
       "373 0.027627325               0.992        \n",
       "655 0.024078652               0.951        \n",
       "740 0.004249602               0.060        \n",
       "223 0.028699644               0.961        \n",
       "293 0.004446999               0.041        \n",
       "713 0.024541165               0.964        \n",
       "392 0.107169246               0.994        "
      ]
     },
     "metadata": {},
     "output_type": "display_data"
    }
   ],
   "source": [
    "colnames(predictions)<-c(\"COWcode\", \"year\", \"CW_Onset\", \"Fearon and Latin (2003)\",\n",
    "\"Collier and Hoeffler (2004)\", \"Hegre and Sambanis (2006)\",\n",
    "\"Random Forest\")\n",
    "predictions<-as.data.frame(predictions)\n",
    "Onset_table<-predictions[order(-predictions$CW_Onset, predictions$year),]\n",
    "Onset_table_1thru19<-head(Onset_table, n=19)\n",
    "xtable(Onset_table_1thru19)\n",
    "# uncomment to write this to a CSV\n",
    "# write.csv(predictions, file=\"testing_file_CW_onset_RF_rep_final.csv\")"
   ]
  },
  {
   "cell_type": "code",
   "execution_count": null,
   "metadata": {},
   "outputs": [],
   "source": []
  }
 ],
 "metadata": {
  "kernelspec": {
   "display_name": "R",
   "language": "R",
   "name": "ir"
  },
  "language_info": {
   "codemirror_mode": "r",
   "file_extension": ".r",
   "mimetype": "text/x-r-source",
   "name": "R",
   "pygments_lexer": "r",
   "version": "3.6.0"
  }
 },
 "nbformat": 4,
 "nbformat_minor": 2
}
