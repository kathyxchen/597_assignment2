{
 "cells": [
  {
   "cell_type": "markdown",
   "metadata": {},
   "source": [
    "Replicate the corrected version of Muchlinksi et al. (2016). Specifically you should make the separation plots (Fig 1), ROC curves (Fig 2), F1-scores (Fig 3), and Table 1 for the main models in the paper."
   ]
  },
  {
   "cell_type": "code",
   "execution_count": 5,
   "metadata": {},
   "outputs": [],
   "source": [
    "library(randomForest)\n",
    "library(caret)\n",
    "library(ROCR)\n",
    "library(pROC)\n",
    "library(stepPlr)\n",
    "library(doMC)\n",
    "library(xtable)"
   ]
  },
  {
   "cell_type": "markdown",
   "metadata": {},
   "source": [
    "## Load data"
   ]
  },
  {
   "cell_type": "code",
   "execution_count": 7,
   "metadata": {},
   "outputs": [],
   "source": [
    "pred_data <- read.csv(file=\"./data/SambanisImp.csv\")\n",
    "causal_mech_data <- read.csv(file=\"./data/Amelia.Imp3.csv\")"
   ]
  },
  {
   "cell_type": "code",
   "execution_count": 8,
   "metadata": {},
   "outputs": [],
   "source": [
    "# Using only the 88 variables specified in Sambanis (2006) Appendix\n",
    "pred_data.full <- pred_data[,\n",
    "    c(\"warstds\", \"ager\", \"agexp\", \"anoc\", \"army85\", \"autch98\", \"auto4\",\n",
    "      \"autonomy\", \"avgnabo\", \"centpol3\", \"coldwar\", \"decade1\", \"decade2\",\n",
    "      \"decade3\", \"decade4\", \"dem\", \"dem4\", \"demch98\", \"dlang\", \"drel\",\n",
    "      \"durable\", \"ef\", \"ef2\", \"ehet\", \"elfo\", \"elfo2\", \"etdo4590\",\n",
    "      \"expgdp\", \"exrec\", \"fedpol3\", \"fuelexp\", \"gdpgrowth\", \"geo1\", \"geo2\",\n",
    "      \"geo34\", \"geo57\", \"geo69\", \"geo8\", \"illiteracy\", \"incumb\", \"infant\",\n",
    "      \"inst\", \"inst3\", \"life\", \"lmtnest\", \"ln_gdpen\", \"lpopns\", \"major\", \"manuexp\", \"milper\",\n",
    "      \"mirps0\", \"mirps1\", \"mirps2\", \"mirps3\", \"nat_war\", \"ncontig\",\n",
    "      \"nmgdp\", \"nmdp4_alt\", \"numlang\", \"nwstate\", \"oil\", \"p4mchg\",\n",
    "      \"parcomp\", \"parreg\", \"part\", \"partfree\", \"plural\", \"plurrel\",\n",
    "      \"pol4\", \"pol4m\", \"pol4sq\", \"polch98\", \"polcomp\", \"popdense\",\n",
    "      \"presi\", \"pri\", \"proxregc\", \"ptime\", \"reg\", \"regd4_alt\", \"relfrac\", \"seceduc\",\n",
    "      \"second\", \"semipol3\", \"sip2\", \"sxpnew\", \"sxpsq\", \"tnatwar\", \"trade\",\n",
    "      \"warhist\", \"xconst\")]"
   ]
  },
  {
   "cell_type": "code",
   "execution_count": 10,
   "metadata": {},
   "outputs": [],
   "source": [
    "# Convert DV into Factor with names for Caret Library\n",
    "pred_data.full$warstds <- factor(\n",
    "    pred_data.full$warstds,\n",
    "    levels=c(0,1),\n",
    "    labels=c(\"peace\", \"war\"))"
   ]
  },
  {
   "cell_type": "markdown",
   "metadata": {},
   "source": [
    "## Train models"
   ]
  },
  {
   "cell_type": "code",
   "execution_count": 11,
   "metadata": {},
   "outputs": [],
   "source": [
    "# distribute workload over multiple cores for faster computation\n",
    "registerDoMC(cores=7)\n",
    "set.seed(666)"
   ]
  },
  {
   "cell_type": "code",
   "execution_count": 12,
   "metadata": {},
   "outputs": [],
   "source": [
    "# cross-validation function for the Caret Library\n",
    "tc <- trainControl(method=\"cv\",\n",
    "    number=10,\n",
    "    summaryFunction=twoClassSummary,\n",
    "    classProb=T,\n",
    "    savePredictions=T)"
   ]
  },
  {
   "cell_type": "markdown",
   "metadata": {},
   "source": [
    "### Fearon and Laitin Model (2003)"
   ]
  },
  {
   "cell_type": "code",
   "execution_count": 13,
   "metadata": {},
   "outputs": [],
   "source": [
    "model.fl.1 <- train(\n",
    "    as.factor(warstds)~warhist+ln_gdpen+lpopns+lmtnest+ncontig+oil+nwstate\n",
    "                      +inst3+pol4+ef+relfrac, #FL 2003 model spec\n",
    "    metric=\"ROC\", method=\"glm\", family=\"binomial\",\n",
    "    trControl=tc, data=pred_data.full)"
   ]
  },
  {
   "cell_type": "code",
   "execution_count": 14,
   "metadata": {},
   "outputs": [
    {
     "data": {
      "text/plain": [
       "\n",
       "Call:\n",
       "NULL\n",
       "\n",
       "Deviance Residuals: \n",
       "    Min       1Q   Median       3Q      Max  \n",
       "-1.0635  -0.1859  -0.1325  -0.0994   3.2962  \n",
       "\n",
       "Coefficients:\n",
       "            Estimate Std. Error z value Pr(>|z|)    \n",
       "(Intercept) -8.46582    1.11539  -7.590 3.20e-14 ***\n",
       "warhist      0.02247    0.25379   0.089  0.92946    \n",
       "ln_gdpen    -0.35196    0.11791  -2.985  0.00284 ** \n",
       "lpopns       0.18788    0.06815   2.757  0.00584 ** \n",
       "lmtnest      0.18706    0.08049   2.324  0.02013 *  \n",
       "ncontig      0.26477    0.28232   0.938  0.34831    \n",
       "oil          0.33689    0.30155   1.117  0.26391    \n",
       "nwstate      1.86032    0.32037   5.807 6.37e-09 ***\n",
       "inst3        1.36212    0.20709   6.577 4.79e-11 ***\n",
       "pol4        -0.02435    0.01781  -1.367  0.17170    \n",
       "ef           0.44421    0.42340   1.049  0.29411    \n",
       "relfrac      0.59413    0.50782   1.170  0.24202    \n",
       "---\n",
       "Signif. codes:  0 ‘***’ 0.001 ‘**’ 0.01 ‘*’ 0.05 ‘.’ 0.1 ‘ ’ 1\n",
       "\n",
       "(Dispersion parameter for binomial family taken to be 1)\n",
       "\n",
       "    Null deviance: 1185.9  on 7139  degrees of freedom\n",
       "Residual deviance: 1057.2  on 7128  degrees of freedom\n",
       "AIC: 1081.2\n",
       "\n",
       "Number of Fisher Scoring iterations: 7\n"
      ]
     },
     "metadata": {},
     "output_type": "display_data"
    }
   ],
   "source": [
    "summary(model.fl.1)"
   ]
  },
  {
   "cell_type": "markdown",
   "metadata": {},
   "source": [
    "### Fearon and Laitin Model (2003) penalized logistic regression"
   ]
  },
  {
   "cell_type": "code",
   "execution_count": 16,
   "metadata": {},
   "outputs": [],
   "source": [
    "model.fl.2 <- train(\n",
    "    as.factor(warstds)~warhist+ln_gdpen+lpopns+lmtnest+ncontig+oil+nwstate\n",
    "                      +inst3+pol4+ef+relfrac, #FL 2003 model spec\n",
    "    metric=\"ROC\", method=\"plr\",\n",
    "    trControl=tc, data=pred_data.full)"
   ]
  },
  {
   "cell_type": "code",
   "execution_count": 17,
   "metadata": {},
   "outputs": [
    {
     "name": "stdout",
     "output_type": "stream",
     "text": [
      "\n",
      "Call:\n",
      "stepPlr::plr(x = x, y = y, weights = if (!is.null(wts)) wts else rep(1, \n",
      "    length(y)), lambda = param$lambda, cp = as.character(param$cp))\n",
      "\n",
      "Coefficients:\n",
      "          Estimate Std.Error z value Pr(>|z|)\n",
      "Intercept  8.46578   1.11547   7.589    0.000\n",
      "warhist   -0.02246   0.25380  -0.088    0.930\n",
      "ln_gdpen   0.35197   0.11791   2.985    0.003\n",
      "lpopns    -0.18788   0.06816  -2.756    0.006\n",
      "lmtnest   -0.18705   0.08050  -2.324    0.020\n",
      "ncontig   -0.26477   0.28233  -0.938    0.348\n",
      "oil       -0.33688   0.30156  -1.117    0.264\n",
      "nwstate   -1.86028   0.32038  -5.806    0.000\n",
      "inst3     -1.36210   0.20710  -6.577    0.000\n",
      "pol4       0.02435   0.01782   1.366    0.172\n",
      "ef        -0.44420   0.42340  -1.049    0.294\n",
      "relfrac   -0.59410   0.50783  -1.170    0.242\n",
      "\n",
      "    Null deviance: 1185.92 on 7139 degrees of freedom\n",
      "Residual deviance: 1057.19 on 7128 degrees of freedom\n",
      "            Score: deviance + 8.9 * df = 1163.67 \n"
     ]
    }
   ],
   "source": [
    "summary(model.fl.2)"
   ]
  },
  {
   "cell_type": "markdown",
   "metadata": {},
   "source": [
    "### Collier and Hoeffler Model (2004) \n"
   ]
  },
  {
   "cell_type": "code",
   "execution_count": 20,
   "metadata": {},
   "outputs": [
    {
     "name": "stderr",
     "output_type": "stream",
     "text": [
      "Warning message:\n",
      "“glm.fit: fitted probabilities numerically 0 or 1 occurred”\n"
     ]
    }
   ],
   "source": [
    "model.ch.1 <- train(\n",
    "    as.factor(warstds)~sxpnew+sxpsq+ln_gdpen+gdpgrowth+warhist+lmtnest+ef+popdense\n",
    "                      +lpopns+coldwar+seceduc+ptime,\n",
    "    metric=\"ROC\", method=\"glm\", family=\"binomial\",\n",
    "    trControl=tc, data=pred_data.full)"
   ]
  },
  {
   "cell_type": "code",
   "execution_count": 21,
   "metadata": {},
   "outputs": [
    {
     "data": {
      "text/plain": [
       "\n",
       "Call:\n",
       "NULL\n",
       "\n",
       "Deviance Residuals: \n",
       "    Min       1Q   Median       3Q      Max  \n",
       "-1.1130  -0.1837  -0.1161  -0.0777   3.5875  \n",
       "\n",
       "Coefficients:\n",
       "              Estimate Std. Error z value Pr(>|z|)    \n",
       "(Intercept) -6.945e+00  1.251e+00  -5.550 2.86e-08 ***\n",
       "sxpnew       1.768e+01  4.288e+00   4.123 3.74e-05 ***\n",
       "sxpsq       -7.685e+01  1.125e+01  -6.831 8.42e-12 ***\n",
       "ln_gdpen    -4.402e-01  1.418e-01  -3.104  0.00191 ** \n",
       "gdpgrowth   -6.783e+00  1.228e+00  -5.525 3.29e-08 ***\n",
       "warhist     -5.266e-01  2.612e-01  -2.016  0.04378 *  \n",
       "lmtnest      2.332e-01  8.192e-02   2.846  0.00443 ** \n",
       "ef          -1.118e-02  4.446e-01  -0.025  0.97993    \n",
       "popdense    -1.463e-04  9.093e-04  -0.161  0.87217    \n",
       "lpopns       2.265e-01  6.922e-02   3.272  0.00107 ** \n",
       "coldwar     -1.081e-01  2.678e-01  -0.404  0.68642    \n",
       "seceduc     -5.562e-03  5.650e-03  -0.984  0.32490    \n",
       "ptime       -2.279e-03  7.607e-04  -2.996  0.00273 ** \n",
       "---\n",
       "Signif. codes:  0 ‘***’ 0.001 ‘**’ 0.01 ‘*’ 0.05 ‘.’ 0.1 ‘ ’ 1\n",
       "\n",
       "(Dispersion parameter for binomial family taken to be 1)\n",
       "\n",
       "    Null deviance: 1185.9  on 7139  degrees of freedom\n",
       "Residual deviance: 1006.2  on 7127  degrees of freedom\n",
       "AIC: 1032.2\n",
       "\n",
       "Number of Fisher Scoring iterations: 9\n"
      ]
     },
     "metadata": {},
     "output_type": "display_data"
    }
   ],
   "source": [
    "summary(model.ch.1)"
   ]
  },
  {
   "cell_type": "markdown",
   "metadata": {},
   "source": [
    "### Collier and Hoeffler (2004) penalized logistic regression"
   ]
  },
  {
   "cell_type": "code",
   "execution_count": 22,
   "metadata": {},
   "outputs": [
    {
     "name": "stdout",
     "output_type": "stream",
     "text": [
      "\n",
      "Convergence warning in plr: 2 \n"
     ]
    }
   ],
   "source": [
    "model.ch.2 <- train(\n",
    "    as.factor(warstds)~sxpnew+sxpsq+ln_gdpen+gdpgrowth+warhist+lmtnest+ef+popdense\n",
    "                      +lpopns+coldwar+seceduc+ptime,\n",
    "    metric=\"ROC\", method=\"plr\",\n",
    "    trControl=tc, data=pred_data.full)"
   ]
  },
  {
   "cell_type": "code",
   "execution_count": 23,
   "metadata": {},
   "outputs": [
    {
     "name": "stdout",
     "output_type": "stream",
     "text": [
      "\n",
      "Call:\n",
      "stepPlr::plr(x = x, y = y, weights = if (!is.null(wts)) wts else rep(1, \n",
      "    length(y)), lambda = param$lambda, cp = as.character(param$cp))\n",
      "\n",
      "Coefficients:\n",
      "          Estimate Std.Error z value Pr(>|z|)\n",
      "Intercept  5.67881   1.18772   4.781    0.000\n",
      "sxpnew     5.81691   4.79867   1.212    0.226\n",
      "sxpsq      3.82190  11.05193   0.346    0.729\n",
      "ln_gdpen   0.39527   0.12803   3.087    0.002\n",
      "gdpgrowth  5.86988   1.26353   4.646    0.000\n",
      "warhist    0.16942   0.25902   0.654    0.513\n",
      "lmtnest   -0.17228   0.07806  -2.207    0.027\n",
      "ef        -0.29777   0.43436  -0.686    0.493\n",
      "popdense   0.00105   0.00117   0.897    0.370\n",
      "lpopns    -0.17755   0.06703  -2.649    0.008\n",
      "coldwar    0.01218   0.26422   0.046    0.963\n",
      "seceduc    0.00850   0.00556   1.529    0.126\n",
      "ptime      0.00113   0.00072   1.569    0.117\n",
      "\n",
      "    Null deviance: 1185.92 on 7139 degrees of freedom\n",
      "Residual deviance: 1052.69 on 7127.03 degrees of freedom\n",
      "            Score: deviance + 8.9 * df = 1167.77 \n"
     ]
    }
   ],
   "source": [
    "summary(model.ch.2)"
   ]
  },
  {
   "cell_type": "markdown",
   "metadata": {},
   "source": [
    "### Hegre and Sambanis (2006) Model "
   ]
  },
  {
   "cell_type": "code",
   "execution_count": 24,
   "metadata": {},
   "outputs": [],
   "source": [
    "model.hs.1 <- train(\n",
    "    warstds~lpopns+ln_gdpen+inst3+parreg+geo34+proxregc+gdpgrowth+anoc\n",
    "           +partfree+nat_war+lmtnest+decade1+pol4sq+nwstate+regd4_alt+etdo4590+milper\n",
    "           +geo1+tnatwar+presi,\n",
    "    metric=\"ROC\", method=\"glm\", family=\"binomial\",\n",
    "    trControl=tc, data=pred_data.full)"
   ]
  },
  {
   "cell_type": "code",
   "execution_count": 25,
   "metadata": {},
   "outputs": [
    {
     "data": {
      "text/plain": [
       "\n",
       "Call:\n",
       "NULL\n",
       "\n",
       "Deviance Residuals: \n",
       "    Min       1Q   Median       3Q      Max  \n",
       "-1.3271  -0.1876  -0.1212  -0.0719   3.7643  \n",
       "\n",
       "Coefficients:\n",
       "              Estimate Std. Error z value Pr(>|z|)    \n",
       "(Intercept) -7.882e+00  1.336e+00  -5.901 3.62e-09 ***\n",
       "lpopns       2.314e-01  7.381e-02   3.135  0.00172 ** \n",
       "ln_gdpen    -2.978e-01  1.318e-01  -2.259  0.02386 *  \n",
       "inst3        1.410e+00  2.476e-01   5.694 1.24e-08 ***\n",
       "parreg      -2.933e-01  1.364e-01  -2.151  0.03151 *  \n",
       "geo34       -1.062e-01  3.163e-01  -0.336  0.73709    \n",
       "proxregc    -9.256e-01  3.118e-01  -2.968  0.00300 ** \n",
       "gdpgrowth   -6.224e+00  1.209e+00  -5.148 2.63e-07 ***\n",
       "anoc         4.359e-01  3.037e-01   1.435  0.15119    \n",
       "partfree     9.320e-02  2.734e-01   0.341  0.73315    \n",
       "nat_war      1.000e+00  3.119e-01   3.206  0.00134 ** \n",
       "lmtnest      1.652e-01  7.996e-02   2.066  0.03883 *  \n",
       "decade1      1.870e-01  2.563e-01   0.729  0.46574    \n",
       "pol4sq       2.510e-03  5.606e-03   0.448  0.65428    \n",
       "nwstate      1.872e+00  3.526e-01   5.311 1.09e-07 ***\n",
       "regd4_alt   -5.943e-02  2.883e-02  -2.061  0.03928 *  \n",
       "etdo4590     3.242e-02  2.283e-01   0.142  0.88704    \n",
       "milper      -6.747e-05  2.816e-04  -0.240  0.81066    \n",
       "geo1        -1.077e+00  1.177e+00  -0.915  0.36012    \n",
       "tnatwar     -3.673e-01  1.754e-01  -2.094  0.03626 *  \n",
       "presi       -1.361e+00  6.164e-01  -2.207  0.02729 *  \n",
       "---\n",
       "Signif. codes:  0 ‘***’ 0.001 ‘**’ 0.01 ‘*’ 0.05 ‘.’ 0.1 ‘ ’ 1\n",
       "\n",
       "(Dispersion parameter for binomial family taken to be 1)\n",
       "\n",
       "    Null deviance: 1185.92  on 7139  degrees of freedom\n",
       "Residual deviance:  993.74  on 7119  degrees of freedom\n",
       "AIC: 1035.7\n",
       "\n",
       "Number of Fisher Scoring iterations: 9\n"
      ]
     },
     "metadata": {},
     "output_type": "display_data"
    }
   ],
   "source": [
    "summary(model.hs.1)"
   ]
  },
  {
   "cell_type": "markdown",
   "metadata": {},
   "source": [
    "### Hegre and Sambanis (2006) penalized logistic regression"
   ]
  },
  {
   "cell_type": "code",
   "execution_count": 26,
   "metadata": {},
   "outputs": [
    {
     "name": "stdout",
     "output_type": "stream",
     "text": [
      "\n",
      "Convergence warning in plr: 2 \n"
     ]
    }
   ],
   "source": [
    "model.hs.2 <- train(\n",
    "    warstds~lpopns+ln_gdpen+inst3+parreg+geo34+proxregc+gdpgrowth+anoc\n",
    "           +partfree+nat_war+lmtnest+decade1+pol4sq+nwstate+regd4_alt+etdo4590+milper\n",
    "           +geo1+tnatwar+presi,\n",
    "    metric=\"ROC\", method=\"plr\",\n",
    "    trControl=tc, data=pred_data.full)"
   ]
  },
  {
   "cell_type": "code",
   "execution_count": 27,
   "metadata": {},
   "outputs": [
    {
     "name": "stdout",
     "output_type": "stream",
     "text": [
      "\n",
      "Call:\n",
      "stepPlr::plr(x = x, y = y, weights = if (!is.null(wts)) wts else rep(1, \n",
      "    length(y)), lambda = param$lambda, cp = as.character(param$cp))\n",
      "\n",
      "Coefficients:\n",
      "          Estimate Std.Error z value Pr(>|z|)\n",
      "Intercept  6.25432   1.29731   4.821    0.000\n",
      "lpopns    -0.15150   0.07278  -2.082    0.037\n",
      "ln_gdpen   0.30287   0.13040   2.323    0.020\n",
      "inst3     -1.41801   0.24490  -5.790    0.000\n",
      "parreg     0.35119   0.13266   2.647    0.008\n",
      "geo34      0.11886   0.31104   0.382    0.702\n",
      "proxregc   0.91898   0.30716   2.992    0.003\n",
      "gdpgrowth  4.92304   1.27157   3.872    0.000\n",
      "anoc      -0.34813   0.29985  -1.161    0.246\n",
      "partfree  -0.06085   0.27020  -0.225    0.822\n",
      "nat_war   -1.01204   0.30950  -3.270    0.001\n",
      "lmtnest   -0.16654   0.07871  -2.116    0.034\n",
      "decade1   -0.15392   0.25488  -0.604    0.546\n",
      "pol4sq    -0.00097   0.00555  -0.175    0.861\n",
      "nwstate   -1.85766   0.34810  -5.337    0.000\n",
      "regd4_alt  0.05437   0.02823   1.926    0.054\n",
      "etdo4590   0.01112   0.22645   0.049    0.961\n",
      "milper    -0.00001   0.00027  -0.037    0.970\n",
      "geo1       1.03936   1.15829   0.897    0.370\n",
      "tnatwar    0.34180   0.17430   1.961    0.050\n",
      "presi      1.44112   0.61675   2.337    0.019\n",
      "\n",
      "    Null deviance: 1185.92 on 7139 degrees of freedom\n",
      "Residual deviance: 996.19 on 7119 degrees of freedom\n",
      "            Score: deviance + 8.9 * df = 1182.53 \n"
     ]
    }
   ],
   "source": [
    "summary(model.hs.2)"
   ]
  },
  {
   "cell_type": "markdown",
   "metadata": {},
   "source": [
    "### Random Forest"
   ]
  },
  {
   "cell_type": "code",
   "execution_count": 28,
   "metadata": {},
   "outputs": [],
   "source": [
    "model.rf <- train(\n",
    "    as.factor(warstds)~.,\n",
    "    metric=\"ROC\", method=\"rf\",\n",
    "    sampsize=c(30,90),\n",
    "    importance=T,\n",
    "    proximity=F, \n",
    "    ntree=1000,\n",
    "    trControl=tc, data=pred_data.full)"
   ]
  },
  {
   "cell_type": "code",
   "execution_count": 29,
   "metadata": {},
   "outputs": [
    {
     "data": {
      "text/plain": [
       "                Length Class      Mode     \n",
       "call                8  -none-     call     \n",
       "type                1  -none-     character\n",
       "predicted        7140  factor     numeric  \n",
       "err.rate         3000  -none-     numeric  \n",
       "confusion           6  -none-     numeric  \n",
       "votes           14280  matrix     numeric  \n",
       "oob.times        7140  -none-     numeric  \n",
       "classes             2  -none-     character\n",
       "importance        360  -none-     numeric  \n",
       "importanceSD      270  -none-     numeric  \n",
       "localImportance     0  -none-     NULL     \n",
       "proximity           0  -none-     NULL     \n",
       "ntree               1  -none-     numeric  \n",
       "mtry                1  -none-     numeric  \n",
       "forest             14  -none-     list     \n",
       "y                7140  factor     numeric  \n",
       "test                0  -none-     NULL     \n",
       "inbag               0  -none-     NULL     \n",
       "xNames             90  -none-     character\n",
       "problemType         1  -none-     character\n",
       "tuneValue           1  data.frame list     \n",
       "obsLevels           2  -none-     character\n",
       "param               4  -none-     list     "
      ]
     },
     "metadata": {},
     "output_type": "display_data"
    }
   ],
   "source": [
    "summary(model.rf)"
   ]
  },
  {
   "cell_type": "markdown",
   "metadata": {},
   "source": [
    "## Figure 2 (ROC Curves)"
   ]
  },
  {
   "cell_type": "code",
   "execution_count": 30,
   "metadata": {},
   "outputs": [],
   "source": [
    "pred.FL.war<-model.fl.1$finalModel$fitted.values\n",
    "pred.CH.war<-model.ch.1$finalModel$fitted.values\n",
    "pred.HR.war<-model.hs.1$finalModel$fitted.values"
   ]
  },
  {
   "cell_type": "code",
   "execution_count": 31,
   "metadata": {},
   "outputs": [],
   "source": [
    "RF.1.pred<-predict(model.rf$finalModel, type=\"prob\")\n",
    "RF.1.pred<-as.data.frame(RF.1.pred)"
   ]
  },
  {
   "cell_type": "code",
   "execution_count": 33,
   "metadata": {},
   "outputs": [],
   "source": [
    "pred.FL <- prediction(pred.FL.war, pred_data.full$warstds)\n",
    "perf.FL <- performance(pred.FL,\"tpr\",\"fpr\")\n",
    "pred.CH <- prediction(pred.CH.war, pred_data.full$warstds)\n",
    "perf.CH <- performance(pred.CH,\"tpr\",\"fpr\")\n",
    "pred.HS<-prediction(pred.HR.war, pred_data.full$warstds)\n",
    "perf.HS<-performance(pred.HS, \"tpr\", \"fpr\")\n",
    "pred.RF.1<-prediction(RF.1.pred$war, pred_data.full$warstds)\n",
    "perf.RF.1<-performance(pred.RF.1, \"tpr\", \"fpr\")"
   ]
  },
  {
   "cell_type": "code",
   "execution_count": 39,
   "metadata": {},
   "outputs": [
    {
     "data": {
      "image/png": "[encoded data removed]",
      "text/plain": [
       "Plot with title “Logits and Random Forests (Corrected)”"
      ]
     },
     "metadata": {
      "image/png": {
       "height": 420,
       "width": 420
      }
     },
     "output_type": "display_data"
    }
   ],
   "source": [
    "plot(perf.FL, main=\"Logits and Random Forests (Corrected)\")\n",
    "plot(perf.CH, add=T, lty=2)\n",
    "plot(perf.HS, add=T, lty=3)\n",
    "plot(perf.RF.1, add=T, lty=4)\n",
    "legend(0.32, 0.25, \n",
    "       c(\"Fearon and Laitin (2003) 0.77\", \"Collier and Hoeffler (2004) 0.82\",\n",
    "         \"Hegre and Sambanis (2006) 0.80\", \"Random Forest 0.91\" ),\n",
    "       lty=c(1,2,3,4), bty=\"n\", cex = .75)"
   ]
  },
  {
   "cell_type": "code",
   "execution_count": 36,
   "metadata": {},
   "outputs": [],
   "source": [
    "FL.2.pred<-1-model.fl.2$finalModel$fitted.values\n",
    "CH.2.pred<-1-model.ch.2$finalModel$fitted.values\n",
    "HS.2.pred<-1-model.hs.2$finalModel$fitted.values"
   ]
  },
  {
   "cell_type": "code",
   "execution_count": 37,
   "metadata": {},
   "outputs": [],
   "source": [
    "pred.FL.2 <- prediction(FL.2.pred, pred_data.full$warstds)\n",
    "perf.FL.2 <- performance(pred.FL.2,\"tpr\",\"fpr\")\n",
    "pred.CH.2<- prediction(CH.2.pred, pred_data.full$warstds)\n",
    "perf.CH.2 <- performance(pred.CH.2,\"tpr\",\"fpr\")\n",
    "pred.HS.2<- prediction(HS.2.pred, pred_data.full$warstds)\n",
    "perf.HS.2 <- performance(pred.HS.2,\"tpr\",\"fpr\")"
   ]
  },
  {
   "cell_type": "code",
   "execution_count": 38,
   "metadata": {},
   "outputs": [
    {
     "data": {
      "image/png": "[encoded data removed]",
      "text/plain": [
       "Plot with title “Penalized Logits and Random Forests (Corrected)”"
      ]
     },
     "metadata": {
      "image/png": {
       "height": 420,
       "width": 420
      }
     },
     "output_type": "display_data"
    }
   ],
   "source": [
    "plot(perf.FL.2, main=\"Penalized Logits and Random Forests (Corrected)\")\n",
    "plot(perf.CH.2, add=T, lty=2)\n",
    "plot(perf.HS.2, add=T, lty=3)\n",
    "plot(perf.RF.1, add=T, lty=4)\n",
    "legend(0.32, 0.25, \n",
    "       c(\"Fearon and Laitin (2003) 0.77\",\n",
    "         \"Collier and Hoeffler (2004) 0.77\",\n",
    "         \"Hegre and Sambanis (2006) 0.80\",\n",
    "         \"Random Forest 0.91\" ), \n",
    "       lty=c(1,2,3,4), bty=\"n\", cex = .75)"
   ]
  },
  {
   "cell_type": "code",
   "execution_count": 40,
   "metadata": {},
   "outputs": [
    {
     "data": {
      "image/png": "[encoded data removed]",
      "text/plain": [
       "Plot with title “Penalized Logits and Random Forests (Corrected)”"
      ]
     },
     "metadata": {
      "image/png": {
       "height": 420,
       "width": 420
      }
     },
     "output_type": "display_data"
    }
   ],
   "source": [
    "### Combine both ROC plots\n",
    "par(mfrow=c(1,2))\n",
    "plot(perf.FL, main=\"Logits and Random Forests (Corrected)\")\n",
    "plot(perf.CH, add=T, lty=2)\n",
    "plot(perf.HS, add=T, lty=3)\n",
    "plot(perf.RF.1, add=T, lty=4)\n",
    "legend(0.32, 0.25, \n",
    "       c(\"Fearon and Laitin (2003) 0.77\", \"Collier and Hoeffler (2004) 0.82\",\n",
    "         \"Hegre and Sambanis (2006) 0.80\", \"Random Forest 0.91\" ),\n",
    "       lty=c(1,2,3,4), bty=\"n\", cex = .75)\n",
    "plot(perf.FL.2, main=\"Penalized Logits and Random Forests (Corrected)\")\n",
    "plot(perf.CH.2, add=T, lty=2)\n",
    "plot(perf.HS.2, add=T, lty=3)\n",
    "plot(perf.RF.1, add=T, lty=4)\n",
    "legend(0.32, 0.25,\n",
    "       c(\"Fearon and Laitin (2003) 0.77\", \"Collier and Hoeffler (2004) 0.77\",\n",
    "         \"Hegre and Sambanis (2006) 0.80\", \"Random Forest 0.91\" ),\n",
    "       lty=c(1,2,3,4), bty=\"n\", cex = .75)"
   ]
  },
  {
   "cell_type": "markdown",
   "metadata": {},
   "source": [
    "## Figure 1 (separation plots)"
   ]
  },
  {
   "cell_type": "code",
   "execution_count": 41,
   "metadata": {},
   "outputs": [
    {
     "ename": "ERROR",
     "evalue": "Error in library(separationplot): there is no package called ‘separationplot’\n",
     "output_type": "error",
     "traceback": [
      "Error in library(separationplot): there is no package called ‘separationplot’\nTraceback:\n",
      "1. library(separationplot)"
     ]
    }
   ],
   "source": [
    "library(separationplot)"
   ]
  },
  {
   "cell_type": "markdown",
   "metadata": {},
   "source": [
    "## Figure 3"
   ]
  },
  {
   "cell_type": "code",
   "execution_count": null,
   "metadata": {},
   "outputs": [],
   "source": []
  },
  {
   "cell_type": "markdown",
   "metadata": {},
   "source": [
    "## Table 1"
   ]
  },
  {
   "cell_type": "code",
   "execution_count": null,
   "metadata": {},
   "outputs": [],
   "source": []
  }
 ],
 "metadata": {
  "kernelspec": {
   "display_name": "R",
   "language": "R",
   "name": "ir"
  },
  "language_info": {
   "codemirror_mode": "r",
   "file_extension": ".r",
   "mimetype": "text/x-r-source",
   "name": "R",
   "pygments_lexer": "r",
   "version": "3.6.0"
  }
 },
 "nbformat": 4,
 "nbformat_minor": 2
}
